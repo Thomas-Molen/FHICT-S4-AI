{
 "cells": [
  {
   "cell_type": "code",
   "execution_count": 1,
   "id": "9e5e8431",
   "metadata": {},
   "outputs": [
    {
     "name": "stdout",
     "output_type": "stream",
     "text": [
      "numpy version: 1.20.3\n",
      "pandas version: 1.3.4\n",
      "seaborn version: 0.11.2\n",
      "pyarrow version: 7.0.0\n"
     ]
    }
   ],
   "source": [
    "import pandas as pd\n",
    "import numpy as np\n",
    "import seaborn as sns\n",
    "import matplotlib.pyplot as plt\n",
    "import pyarrow as pa\n",
    "\n",
    "print('numpy version:', np.__version__)\n",
    "print('pandas version:', pd.__version__)\n",
    "print('seaborn version:', sns.__version__)\n",
    "print('pyarrow version:', pa.__version__)\n"
   ]
  },
  {
   "cell_type": "markdown",
   "id": "1e2ae5cf",
   "metadata": {},
   "source": [
    "Loading both a single parquet file and all files into dataframes for examination."
   ]
  },
  {
   "cell_type": "code",
   "execution_count": 66,
   "id": "959e9023",
   "metadata": {},
   "outputs": [],
   "source": [
    "import glob\n",
    "\n",
    "# Local path to the dataset files: roadworks folder contains the parquets in this case\n",
    "localpath = '/Stuff/School/SOFT/FHICT-S4-AI/Group/ANWB/roadworks'\n",
    "isFirstRun = True\n",
    "for path in glob.glob(f\"{localpath}/*\"):\n",
    "#   Setting the relative path: this notebook is in the same directory as the roadworks folder that contains the parquets \n",
    "    path = path.replace(f\"{localpath}\\\\\", \"roadworks/\")\n",
    "    if (path == 'roadworks/_SUCCESS'):\n",
    "        continue\n",
    "    else:\n",
    "        if (isFirstRun):\n",
    "            bdf = pd.read_parquet(path)\n",
    "            isFirstRun = False\n",
    "        else:\n",
    "            bdf = bdf.append(pd.read_parquet(path))\n",
    "\n",
    "sdf = pd.read_parquet(\"roadworks/part-00000-6d331a6a-a08a-4cfc-ad2c-d184f64be97e-c000.snappy.parquet\")\n",
    "\n",
    "pd.set_option('display.max_columns', None)"
   ]
  },
  {
   "cell_type": "code",
   "execution_count": 70,
   "id": "73544d6b",
   "metadata": {},
   "outputs": [
    {
     "name": "stdout",
     "output_type": "stream",
     "text": [
      "<class 'pandas.core.frame.DataFrame'>\n",
      "Int64Index: 122247 entries, 0 to 97\n",
      "Data columns (total 21 columns):\n",
      " #   Column                Non-Null Count   Dtype         \n",
      "---  ------                --------------   -----         \n",
      " 0   roadwork_id           122247 non-null  int64         \n",
      " 1   loaddatetimeutc       122247 non-null  datetime64[ns]\n",
      " 2   road                  122247 non-null  object        \n",
      " 3   type                  122247 non-null  object        \n",
      " 4   roadwork_from         122247 non-null  object        \n",
      " 5   roadwork_to           122247 non-null  object        \n",
      " 6   roadwork_label        94553 non-null   object        \n",
      " 7   roadwork_reason       122247 non-null  object        \n",
      " 8   roadwork_start        122247 non-null  datetime64[ns]\n",
      " 9   roadwork_stop         122247 non-null  datetime64[ns]\n",
      " 10  radar_codedirection   122247 non-null  int64         \n",
      " 11  roadwork_fromloc_lat  122247 non-null  float64       \n",
      " 12  roadwork_fromloc_lon  122247 non-null  float64       \n",
      " 13  roadwork_toloc_lat    122247 non-null  float64       \n",
      " 14  roadwork_toloc_lon    122247 non-null  float64       \n",
      " 15  roadwork_segmentid    122247 non-null  int32         \n",
      " 16  segmentstart          122247 non-null  object        \n",
      " 17  segmentend            122247 non-null  object        \n",
      " 18  roadwork_afrc         122247 non-null  int32         \n",
      " 19  roadwork_category     122247 non-null  object        \n",
      " 20  roadwork_type         122247 non-null  object        \n",
      "dtypes: datetime64[ns](3), float64(4), int32(2), int64(2), object(10)\n",
      "memory usage: 19.6+ MB\n"
     ]
    }
   ],
   "source": [
    "bdf.info()"
   ]
  },
  {
   "cell_type": "code",
   "execution_count": 89,
   "id": "28cfd569",
   "metadata": {},
   "outputs": [
    {
     "data": {
      "text/html": [
       "<div>\n",
       "<style scoped>\n",
       "    .dataframe tbody tr th:only-of-type {\n",
       "        vertical-align: middle;\n",
       "    }\n",
       "\n",
       "    .dataframe tbody tr th {\n",
       "        vertical-align: top;\n",
       "    }\n",
       "\n",
       "    .dataframe thead th {\n",
       "        text-align: right;\n",
       "    }\n",
       "</style>\n",
       "<table border=\"1\" class=\"dataframe\">\n",
       "  <thead>\n",
       "    <tr style=\"text-align: right;\">\n",
       "      <th></th>\n",
       "      <th>roadwork_id</th>\n",
       "      <th>loaddatetimeutc</th>\n",
       "      <th>road</th>\n",
       "      <th>type</th>\n",
       "      <th>roadwork_from</th>\n",
       "      <th>roadwork_to</th>\n",
       "      <th>roadwork_label</th>\n",
       "      <th>roadwork_reason</th>\n",
       "      <th>roadwork_start</th>\n",
       "      <th>roadwork_stop</th>\n",
       "      <th>radar_codedirection</th>\n",
       "      <th>roadwork_fromloc_lat</th>\n",
       "      <th>roadwork_fromloc_lon</th>\n",
       "      <th>roadwork_toloc_lat</th>\n",
       "      <th>roadwork_toloc_lon</th>\n",
       "      <th>roadwork_segmentid</th>\n",
       "      <th>segmentstart</th>\n",
       "      <th>segmentend</th>\n",
       "      <th>roadwork_afrc</th>\n",
       "      <th>roadwork_category</th>\n",
       "      <th>roadwork_type</th>\n",
       "    </tr>\n",
       "  </thead>\n",
       "  <tbody>\n",
       "    <tr>\n",
       "      <th>0</th>\n",
       "      <td>284989500</td>\n",
       "      <td>2021-09-09 16:00:00</td>\n",
       "      <td>A1</td>\n",
       "      <td>a</td>\n",
       "      <td>afrit Markelo</td>\n",
       "      <td>afrit Markelo</td>\n",
       "      <td>closed</td>\n",
       "      <td>De afrit is dicht. Van 10 september 2021 20:00...</td>\n",
       "      <td>2021-09-10 18:00:00</td>\n",
       "      <td>2021-09-11 04:00:00</td>\n",
       "      <td>1</td>\n",
       "      <td>52.26259</td>\n",
       "      <td>6.45569</td>\n",
       "      <td>52.26259</td>\n",
       "      <td>6.45569</td>\n",
       "      <td>3002</td>\n",
       "      <td>Apeldoorn</td>\n",
       "      <td>Hengelo</td>\n",
       "      <td>0</td>\n",
       "      <td>roadworks</td>\n",
       "      <td>a</td>\n",
       "    </tr>\n",
       "    <tr>\n",
       "      <th>1</th>\n",
       "      <td>284989684</td>\n",
       "      <td>2021-09-09 16:00:00</td>\n",
       "      <td>A1</td>\n",
       "      <td>a</td>\n",
       "      <td>Deventer</td>\n",
       "      <td>Deventer</td>\n",
       "      <td>closed</td>\n",
       "      <td>De op- en afrit is dicht. Van 10 september 202...</td>\n",
       "      <td>2021-09-10 19:00:00</td>\n",
       "      <td>2021-09-11 04:00:00</td>\n",
       "      <td>1</td>\n",
       "      <td>52.23441</td>\n",
       "      <td>6.18282</td>\n",
       "      <td>52.23441</td>\n",
       "      <td>6.18282</td>\n",
       "      <td>3002</td>\n",
       "      <td>Apeldoorn</td>\n",
       "      <td>Hengelo</td>\n",
       "      <td>0</td>\n",
       "      <td>roadworks</td>\n",
       "      <td>a</td>\n",
       "    </tr>\n",
       "    <tr>\n",
       "      <th>2</th>\n",
       "      <td>284989585</td>\n",
       "      <td>2021-09-09 16:00:00</td>\n",
       "      <td>A1</td>\n",
       "      <td>a</td>\n",
       "      <td>knp. Hoevelaken</td>\n",
       "      <td>Amersfoort-Noord</td>\n",
       "      <td>closed</td>\n",
       "      <td>Dicht. Van 10 september 2021 22:00 uur tot 11 ...</td>\n",
       "      <td>2021-09-10 20:00:00</td>\n",
       "      <td>2021-09-11 05:00:00</td>\n",
       "      <td>0</td>\n",
       "      <td>52.17580</td>\n",
       "      <td>5.42840</td>\n",
       "      <td>52.19401</td>\n",
       "      <td>5.40317</td>\n",
       "      <td>3000</td>\n",
       "      <td>Amersfoort</td>\n",
       "      <td>Amsterdam</td>\n",
       "      <td>0</td>\n",
       "      <td>roadworks</td>\n",
       "      <td>a</td>\n",
       "    </tr>\n",
       "    <tr>\n",
       "      <th>3</th>\n",
       "      <td>284989410</td>\n",
       "      <td>2021-09-09 16:00:00</td>\n",
       "      <td>A1</td>\n",
       "      <td>a</td>\n",
       "      <td>afrit Soest</td>\n",
       "      <td>afrit Soest</td>\n",
       "      <td>closed</td>\n",
       "      <td>Oprit dicht. Van 9 september 2021 21:00 uur to...</td>\n",
       "      <td>2021-09-09 19:00:00</td>\n",
       "      <td>2021-09-10 03:00:00</td>\n",
       "      <td>0</td>\n",
       "      <td>52.22478</td>\n",
       "      <td>5.25528</td>\n",
       "      <td>52.22478</td>\n",
       "      <td>5.25528</td>\n",
       "      <td>3000</td>\n",
       "      <td>Amersfoort</td>\n",
       "      <td>Amsterdam</td>\n",
       "      <td>0</td>\n",
       "      <td>roadworks</td>\n",
       "      <td>a</td>\n",
       "    </tr>\n",
       "    <tr>\n",
       "      <th>4</th>\n",
       "      <td>284989774</td>\n",
       "      <td>2021-09-09 16:00:00</td>\n",
       "      <td>A2</td>\n",
       "      <td>a</td>\n",
       "      <td>Nieuwegein</td>\n",
       "      <td>Nieuwegein</td>\n",
       "      <td>closed</td>\n",
       "      <td>De afrit is dicht. Van 10 september 2021 22:00...</td>\n",
       "      <td>2021-09-10 20:00:00</td>\n",
       "      <td>2021-09-13 03:00:00</td>\n",
       "      <td>0</td>\n",
       "      <td>52.02208</td>\n",
       "      <td>5.06477</td>\n",
       "      <td>52.02208</td>\n",
       "      <td>5.06477</td>\n",
       "      <td>3104</td>\n",
       "      <td>Utrecht</td>\n",
       "      <td>'s-Hertogenbosch</td>\n",
       "      <td>0</td>\n",
       "      <td>roadworks</td>\n",
       "      <td>a</td>\n",
       "    </tr>\n",
       "  </tbody>\n",
       "</table>\n",
       "</div>"
      ],
      "text/plain": [
       "   roadwork_id     loaddatetimeutc road type    roadwork_from  \\\n",
       "0    284989500 2021-09-09 16:00:00   A1    a    afrit Markelo   \n",
       "1    284989684 2021-09-09 16:00:00   A1    a         Deventer   \n",
       "2    284989585 2021-09-09 16:00:00   A1    a  knp. Hoevelaken   \n",
       "3    284989410 2021-09-09 16:00:00   A1    a      afrit Soest   \n",
       "4    284989774 2021-09-09 16:00:00   A2    a       Nieuwegein   \n",
       "\n",
       "        roadwork_to roadwork_label  \\\n",
       "0     afrit Markelo         closed   \n",
       "1          Deventer         closed   \n",
       "2  Amersfoort-Noord         closed   \n",
       "3       afrit Soest         closed   \n",
       "4        Nieuwegein         closed   \n",
       "\n",
       "                                     roadwork_reason      roadwork_start  \\\n",
       "0  De afrit is dicht. Van 10 september 2021 20:00... 2021-09-10 18:00:00   \n",
       "1  De op- en afrit is dicht. Van 10 september 202... 2021-09-10 19:00:00   \n",
       "2  Dicht. Van 10 september 2021 22:00 uur tot 11 ... 2021-09-10 20:00:00   \n",
       "3  Oprit dicht. Van 9 september 2021 21:00 uur to... 2021-09-09 19:00:00   \n",
       "4  De afrit is dicht. Van 10 september 2021 22:00... 2021-09-10 20:00:00   \n",
       "\n",
       "        roadwork_stop  radar_codedirection  roadwork_fromloc_lat  \\\n",
       "0 2021-09-11 04:00:00                    1              52.26259   \n",
       "1 2021-09-11 04:00:00                    1              52.23441   \n",
       "2 2021-09-11 05:00:00                    0              52.17580   \n",
       "3 2021-09-10 03:00:00                    0              52.22478   \n",
       "4 2021-09-13 03:00:00                    0              52.02208   \n",
       "\n",
       "   roadwork_fromloc_lon  roadwork_toloc_lat  roadwork_toloc_lon  \\\n",
       "0               6.45569            52.26259             6.45569   \n",
       "1               6.18282            52.23441             6.18282   \n",
       "2               5.42840            52.19401             5.40317   \n",
       "3               5.25528            52.22478             5.25528   \n",
       "4               5.06477            52.02208             5.06477   \n",
       "\n",
       "   roadwork_segmentid segmentstart        segmentend  roadwork_afrc  \\\n",
       "0                3002    Apeldoorn           Hengelo              0   \n",
       "1                3002    Apeldoorn           Hengelo              0   \n",
       "2                3000   Amersfoort         Amsterdam              0   \n",
       "3                3000   Amersfoort         Amsterdam              0   \n",
       "4                3104      Utrecht  's-Hertogenbosch              0   \n",
       "\n",
       "  roadwork_category roadwork_type  \n",
       "0         roadworks             a  \n",
       "1         roadworks             a  \n",
       "2         roadworks             a  \n",
       "3         roadworks             a  \n",
       "4         roadworks             a  "
      ]
     },
     "execution_count": 89,
     "metadata": {},
     "output_type": "execute_result"
    }
   ],
   "source": [
    "sdf.head()"
   ]
  },
  {
   "cell_type": "code",
   "execution_count": 73,
   "id": "319fa560",
   "metadata": {},
   "outputs": [
    {
     "data": {
      "text/plain": [
       "False"
      ]
     },
     "execution_count": 73,
     "metadata": {},
     "output_type": "execute_result"
    }
   ],
   "source": [
    "bdf[\"roadwork_id\"].is_unique"
   ]
  },
  {
   "cell_type": "markdown",
   "id": "ee96de23",
   "metadata": {},
   "source": [
    "roadwork_id, while being an Id is not a unique value in this dataset. This is because the same roadworks have been set in the same dataset, this could be because information changed of the roadwork, or could be that the record was just collected multiple times.  \n",
    "This will have to be explored and cleaned, afterwards roadwork_id should be able to be used as index."
   ]
  },
  {
   "cell_type": "code",
   "execution_count": 75,
   "id": "08638246",
   "metadata": {},
   "outputs": [
    {
     "data": {
      "text/plain": [
       "array(['2021-09-09T16:00:00.000000000', '2021-09-09T13:01:00.000000000',\n",
       "       '2021-09-09T14:01:00.000000000', '2021-09-09T15:00:00.000000000',\n",
       "       '2021-09-09T18:01:00.000000000', '2021-09-09T17:01:00.000000000',\n",
       "       '2021-09-09T23:00:00.000000000', '2021-09-10T02:00:00.000000000',\n",
       "       '2021-09-09T21:00:00.000000000', '2021-09-09T20:01:00.000000000',\n",
       "       '2021-09-09T22:01:00.000000000', '2021-09-10T01:00:00.000000000',\n",
       "       '2021-09-09T19:01:00.000000000', '2021-09-10T00:00:00.000000000',\n",
       "       '2021-09-09T12:01:00.000000000', '2021-08-26T17:01:00.000000000',\n",
       "       '2021-08-26T19:01:00.000000000', '2021-08-26T21:00:00.000000000',\n",
       "       '2021-08-26T18:01:00.000000000', '2021-08-26T20:00:00.000000000',\n",
       "       '2021-09-11T02:01:00.000000000', '2021-09-11T00:01:00.000000000',\n",
       "       '2021-08-26T22:00:00.000000000', '2021-08-26T23:00:00.000000000',\n",
       "       '2021-08-27T01:00:00.000000000', '2021-08-27T02:00:00.000000000',\n",
       "       '2021-08-27T00:00:00.000000000', '2021-09-11T03:01:00.000000000',\n",
       "       '2021-09-10T11:01:00.000000000', '2021-09-10T13:00:00.000000000',\n",
       "       '2021-09-10T12:01:00.000000000', '2021-09-10T15:01:00.000000000'],\n",
       "      dtype='datetime64[ns]')"
      ]
     },
     "execution_count": 75,
     "metadata": {},
     "output_type": "execute_result"
    }
   ],
   "source": [
    "sdf[\"loaddatetimeutc\"].unique()"
   ]
  },
  {
   "cell_type": "markdown",
   "id": "41b3b2ea",
   "metadata": {},
   "source": [
    "loaddatetimeutc seems to perfectly cover 1 day of datapoints, this could mean that the loaddatetimeutc is the time that the data was taken from ANWB and set into the original parquet file."
   ]
  },
  {
   "cell_type": "code",
   "execution_count": 77,
   "id": "3e101151",
   "metadata": {},
   "outputs": [
    {
     "data": {
      "text/plain": [
       "array(['A1', 'A2', 'A6', 'A7', 'A8', 'A9', 'A12', 'A15', 'A16', 'A20',\n",
       "       'A27', 'A28', 'A29', 'A30', 'A44', 'A50', 'A58', 'A59', 'A65',\n",
       "       'A67', 'A76', 'A79', 'A348', 'N3', 'N18', 'N33', 'N35', 'N57',\n",
       "       'N207', 'N210', 'N301', 'N307', 'N348', 'N362', 'A4', 'A10', 'A32',\n",
       "       'N44', 'N99', 'N228', 'N247', 'N340', 'N2', 'N260', 'A18', 'A73',\n",
       "       'A74', 'N11', 'N36', 'N48', 'N59', 'N917', 'N50', 'N200', 'A5',\n",
       "       'A37', 'N65', 'A13', 'N256', 'A200', 'N31', 'N7', 'N62', 'A17',\n",
       "       'N239', 'A31', 'A35', 'N264', 'N325', 'N786', 'N9', 'N14', 'A22',\n",
       "       'N209', 'N280', 'N304', 'N351', 'N322', 'N61', 'N34', 'N612',\n",
       "       'N244', 'N370', 'A208', 'N46', 'N32', 'N440', 'N471'], dtype=object)"
      ]
     },
     "execution_count": 77,
     "metadata": {},
     "output_type": "execute_result"
    }
   ],
   "source": [
    "bdf['road'].unique()"
   ]
  },
  {
   "cell_type": "markdown",
   "id": "e3125e0f",
   "metadata": {},
   "source": [
    "Road shows the main road that the construction was done on. This feature should be categorial dtype."
   ]
  },
  {
   "cell_type": "code",
   "execution_count": 90,
   "id": "4730533b",
   "metadata": {},
   "outputs": [
    {
     "data": {
      "text/plain": [
       "array(['a', 'n'], dtype=object)"
      ]
     },
     "execution_count": 90,
     "metadata": {},
     "output_type": "execute_result"
    }
   ],
   "source": [
    "bdf['type'].unique()"
   ]
  },
  {
   "cell_type": "markdown",
   "id": "4e1b30c5",
   "metadata": {},
   "source": [
    "Type seems to be in reference to road, where the type is what kind of road it is, in this case A or N which is also already conveyed in the road column."
   ]
  },
  {
   "cell_type": "code",
   "execution_count": 79,
   "id": "41890270",
   "metadata": {},
   "outputs": [
    {
     "data": {
      "text/html": [
       "<div>\n",
       "<style scoped>\n",
       "    .dataframe tbody tr th:only-of-type {\n",
       "        vertical-align: middle;\n",
       "    }\n",
       "\n",
       "    .dataframe tbody tr th {\n",
       "        vertical-align: top;\n",
       "    }\n",
       "\n",
       "    .dataframe thead th {\n",
       "        text-align: right;\n",
       "    }\n",
       "</style>\n",
       "<table border=\"1\" class=\"dataframe\">\n",
       "  <thead>\n",
       "    <tr style=\"text-align: right;\">\n",
       "      <th></th>\n",
       "      <th>roadwork_from</th>\n",
       "      <th>roadwork_to</th>\n",
       "      <th>roadwork_label</th>\n",
       "      <th>roadwork_reason</th>\n",
       "      <th>roadwork_start</th>\n",
       "      <th>roadwork_stop</th>\n",
       "    </tr>\n",
       "  </thead>\n",
       "  <tbody>\n",
       "    <tr>\n",
       "      <th>0</th>\n",
       "      <td>afrit Markelo</td>\n",
       "      <td>afrit Markelo</td>\n",
       "      <td>closed</td>\n",
       "      <td>De afrit is dicht. Van 10 september 2021 20:00...</td>\n",
       "      <td>2021-09-10 18:00:00</td>\n",
       "      <td>2021-09-11 04:00:00</td>\n",
       "    </tr>\n",
       "    <tr>\n",
       "      <th>1</th>\n",
       "      <td>Deventer</td>\n",
       "      <td>Deventer</td>\n",
       "      <td>closed</td>\n",
       "      <td>De op- en afrit is dicht. Van 10 september 202...</td>\n",
       "      <td>2021-09-10 19:00:00</td>\n",
       "      <td>2021-09-11 04:00:00</td>\n",
       "    </tr>\n",
       "    <tr>\n",
       "      <th>2</th>\n",
       "      <td>knp. Hoevelaken</td>\n",
       "      <td>Amersfoort-Noord</td>\n",
       "      <td>closed</td>\n",
       "      <td>Dicht. Van 10 september 2021 22:00 uur tot 11 ...</td>\n",
       "      <td>2021-09-10 20:00:00</td>\n",
       "      <td>2021-09-11 05:00:00</td>\n",
       "    </tr>\n",
       "    <tr>\n",
       "      <th>3</th>\n",
       "      <td>afrit Soest</td>\n",
       "      <td>afrit Soest</td>\n",
       "      <td>closed</td>\n",
       "      <td>Oprit dicht. Van 9 september 2021 21:00 uur to...</td>\n",
       "      <td>2021-09-09 19:00:00</td>\n",
       "      <td>2021-09-10 03:00:00</td>\n",
       "    </tr>\n",
       "    <tr>\n",
       "      <th>4</th>\n",
       "      <td>Nieuwegein</td>\n",
       "      <td>Nieuwegein</td>\n",
       "      <td>closed</td>\n",
       "      <td>De afrit is dicht. Van 10 september 2021 22:00...</td>\n",
       "      <td>2021-09-10 20:00:00</td>\n",
       "      <td>2021-09-13 03:00:00</td>\n",
       "    </tr>\n",
       "  </tbody>\n",
       "</table>\n",
       "</div>"
      ],
      "text/plain": [
       "     roadwork_from       roadwork_to roadwork_label  \\\n",
       "0    afrit Markelo     afrit Markelo         closed   \n",
       "1         Deventer          Deventer         closed   \n",
       "2  knp. Hoevelaken  Amersfoort-Noord         closed   \n",
       "3      afrit Soest       afrit Soest         closed   \n",
       "4       Nieuwegein        Nieuwegein         closed   \n",
       "\n",
       "                                     roadwork_reason      roadwork_start  \\\n",
       "0  De afrit is dicht. Van 10 september 2021 20:00... 2021-09-10 18:00:00   \n",
       "1  De op- en afrit is dicht. Van 10 september 202... 2021-09-10 19:00:00   \n",
       "2  Dicht. Van 10 september 2021 22:00 uur tot 11 ... 2021-09-10 20:00:00   \n",
       "3  Oprit dicht. Van 9 september 2021 21:00 uur to... 2021-09-09 19:00:00   \n",
       "4  De afrit is dicht. Van 10 september 2021 22:00... 2021-09-10 20:00:00   \n",
       "\n",
       "        roadwork_stop  \n",
       "0 2021-09-11 04:00:00  \n",
       "1 2021-09-11 04:00:00  \n",
       "2 2021-09-11 05:00:00  \n",
       "3 2021-09-10 03:00:00  \n",
       "4 2021-09-13 03:00:00  "
      ]
     },
     "execution_count": 79,
     "metadata": {},
     "output_type": "execute_result"
    }
   ],
   "source": [
    "sdf[['roadwork_from', 'roadwork_to', 'roadwork_label', 'roadwork_reason', 'roadwork_start', 'roadwork_stop']].head()"
   ]
  },
  {
   "cell_type": "markdown",
   "id": "ef1e6d4a",
   "metadata": {},
   "source": [
    "roadwork_from/to contains locations, these locations however are not standardized using for example mileposts causing deviations.  \n",
    "These features can for this reason not easily be used as good categorical data."
   ]
  },
  {
   "cell_type": "code",
   "execution_count": 78,
   "id": "52a6d2a2",
   "metadata": {},
   "outputs": [
    {
     "data": {
      "text/plain": [
       "array(['closed', None], dtype=object)"
      ]
     },
     "execution_count": 78,
     "metadata": {},
     "output_type": "execute_result"
    }
   ],
   "source": [
    "bdf['roadwork_label'].unique()"
   ]
  },
  {
   "cell_type": "markdown",
   "id": "cfe3ab24",
   "metadata": {},
   "source": [
    "roadwork label contains only closed (there are no missing values so there are no NAN's that could be considerd a different category), this feature is useless because it will not convey any new information on a per record basis.  \n",
    "\n",
    "roadwork_reason is a text field that contains custom text.\n",
    "\n",
    "roadwork_start/stop are datetimes, so these columns will have to be datetime dtypes (when reading this dataset using pandas, it automatically made these features datetimes, indicating that there are no incorrect date formats)."
   ]
  },
  {
   "cell_type": "code",
   "execution_count": 81,
   "id": "6afef04a",
   "metadata": {},
   "outputs": [
    {
     "data": {
      "text/plain": [
       "array([1, 0, 2], dtype=int64)"
      ]
     },
     "execution_count": 81,
     "metadata": {},
     "output_type": "execute_result"
    }
   ],
   "source": [
    "bdf['radar_codedirection'].unique()"
   ]
  },
  {
   "cell_type": "markdown",
   "id": "505362b1",
   "metadata": {},
   "source": [
    "radar_codedirection contains 3 unique numbers, we assume that this is categorical however we do not know of what and will have to be looked into further."
   ]
  },
  {
   "cell_type": "code",
   "execution_count": 83,
   "id": "f5b2057e",
   "metadata": {},
   "outputs": [
    {
     "data": {
      "text/html": [
       "<div>\n",
       "<style scoped>\n",
       "    .dataframe tbody tr th:only-of-type {\n",
       "        vertical-align: middle;\n",
       "    }\n",
       "\n",
       "    .dataframe tbody tr th {\n",
       "        vertical-align: top;\n",
       "    }\n",
       "\n",
       "    .dataframe thead th {\n",
       "        text-align: right;\n",
       "    }\n",
       "</style>\n",
       "<table border=\"1\" class=\"dataframe\">\n",
       "  <thead>\n",
       "    <tr style=\"text-align: right;\">\n",
       "      <th></th>\n",
       "      <th>roadwork_fromloc_lat</th>\n",
       "      <th>roadwork_fromloc_lon</th>\n",
       "      <th>roadwork_toloc_lat</th>\n",
       "      <th>roadwork_toloc_lon</th>\n",
       "    </tr>\n",
       "  </thead>\n",
       "  <tbody>\n",
       "    <tr>\n",
       "      <th>0</th>\n",
       "      <td>52.26259</td>\n",
       "      <td>6.45569</td>\n",
       "      <td>52.26259</td>\n",
       "      <td>6.45569</td>\n",
       "    </tr>\n",
       "    <tr>\n",
       "      <th>1</th>\n",
       "      <td>52.23441</td>\n",
       "      <td>6.18282</td>\n",
       "      <td>52.23441</td>\n",
       "      <td>6.18282</td>\n",
       "    </tr>\n",
       "    <tr>\n",
       "      <th>2</th>\n",
       "      <td>52.17580</td>\n",
       "      <td>5.42840</td>\n",
       "      <td>52.19401</td>\n",
       "      <td>5.40317</td>\n",
       "    </tr>\n",
       "    <tr>\n",
       "      <th>3</th>\n",
       "      <td>52.22478</td>\n",
       "      <td>5.25528</td>\n",
       "      <td>52.22478</td>\n",
       "      <td>5.25528</td>\n",
       "    </tr>\n",
       "    <tr>\n",
       "      <th>4</th>\n",
       "      <td>52.02208</td>\n",
       "      <td>5.06477</td>\n",
       "      <td>52.02208</td>\n",
       "      <td>5.06477</td>\n",
       "    </tr>\n",
       "    <tr>\n",
       "      <th>...</th>\n",
       "      <td>...</td>\n",
       "      <td>...</td>\n",
       "      <td>...</td>\n",
       "      <td>...</td>\n",
       "    </tr>\n",
       "    <tr>\n",
       "      <th>93</th>\n",
       "      <td>51.98190</td>\n",
       "      <td>5.97862</td>\n",
       "      <td>51.98190</td>\n",
       "      <td>5.97862</td>\n",
       "    </tr>\n",
       "    <tr>\n",
       "      <th>94</th>\n",
       "      <td>51.71358</td>\n",
       "      <td>4.39935</td>\n",
       "      <td>51.71358</td>\n",
       "      <td>4.39935</td>\n",
       "    </tr>\n",
       "    <tr>\n",
       "      <th>95</th>\n",
       "      <td>51.71358</td>\n",
       "      <td>4.39935</td>\n",
       "      <td>51.71358</td>\n",
       "      <td>4.39935</td>\n",
       "    </tr>\n",
       "    <tr>\n",
       "      <th>96</th>\n",
       "      <td>51.90808</td>\n",
       "      <td>4.62108</td>\n",
       "      <td>51.90808</td>\n",
       "      <td>4.62108</td>\n",
       "    </tr>\n",
       "    <tr>\n",
       "      <th>97</th>\n",
       "      <td>51.90808</td>\n",
       "      <td>4.62108</td>\n",
       "      <td>51.90808</td>\n",
       "      <td>4.62108</td>\n",
       "    </tr>\n",
       "  </tbody>\n",
       "</table>\n",
       "<p>122247 rows × 4 columns</p>\n",
       "</div>"
      ],
      "text/plain": [
       "    roadwork_fromloc_lat  roadwork_fromloc_lon  roadwork_toloc_lat  \\\n",
       "0               52.26259               6.45569            52.26259   \n",
       "1               52.23441               6.18282            52.23441   \n",
       "2               52.17580               5.42840            52.19401   \n",
       "3               52.22478               5.25528            52.22478   \n",
       "4               52.02208               5.06477            52.02208   \n",
       "..                   ...                   ...                 ...   \n",
       "93              51.98190               5.97862            51.98190   \n",
       "94              51.71358               4.39935            51.71358   \n",
       "95              51.71358               4.39935            51.71358   \n",
       "96              51.90808               4.62108            51.90808   \n",
       "97              51.90808               4.62108            51.90808   \n",
       "\n",
       "    roadwork_toloc_lon  \n",
       "0              6.45569  \n",
       "1              6.18282  \n",
       "2              5.40317  \n",
       "3              5.25528  \n",
       "4              5.06477  \n",
       "..                 ...  \n",
       "93             5.97862  \n",
       "94             4.39935  \n",
       "95             4.39935  \n",
       "96             4.62108  \n",
       "97             4.62108  \n",
       "\n",
       "[122247 rows x 4 columns]"
      ]
     },
     "execution_count": 83,
     "metadata": {},
     "output_type": "execute_result"
    }
   ],
   "source": [
    "bdf[['roadwork_fromloc_lat', 'roadwork_fromloc_lon', 'roadwork_toloc_lat', 'roadwork_toloc_lon']]"
   ]
  },
  {
   "cell_type": "markdown",
   "id": "ba0027ac",
   "metadata": {},
   "source": [
    "roadwork_\\*loc_\\* holds the longtitude and latitude of the start and endlocation of the roadworks. "
   ]
  },
  {
   "cell_type": "code",
   "execution_count": 92,
   "id": "69117f91",
   "metadata": {},
   "outputs": [
    {
     "data": {
      "text/html": [
       "<div>\n",
       "<style scoped>\n",
       "    .dataframe tbody tr th:only-of-type {\n",
       "        vertical-align: middle;\n",
       "    }\n",
       "\n",
       "    .dataframe tbody tr th {\n",
       "        vertical-align: top;\n",
       "    }\n",
       "\n",
       "    .dataframe thead th {\n",
       "        text-align: right;\n",
       "    }\n",
       "</style>\n",
       "<table border=\"1\" class=\"dataframe\">\n",
       "  <thead>\n",
       "    <tr style=\"text-align: right;\">\n",
       "      <th></th>\n",
       "      <th>roadwork_segmentid</th>\n",
       "      <th>segmentstart</th>\n",
       "      <th>segmentend</th>\n",
       "    </tr>\n",
       "  </thead>\n",
       "  <tbody>\n",
       "    <tr>\n",
       "      <th>0</th>\n",
       "      <td>3002</td>\n",
       "      <td>Apeldoorn</td>\n",
       "      <td>Hengelo</td>\n",
       "    </tr>\n",
       "    <tr>\n",
       "      <th>1</th>\n",
       "      <td>3002</td>\n",
       "      <td>Apeldoorn</td>\n",
       "      <td>Hengelo</td>\n",
       "    </tr>\n",
       "    <tr>\n",
       "      <th>2</th>\n",
       "      <td>3000</td>\n",
       "      <td>Amersfoort</td>\n",
       "      <td>Amsterdam</td>\n",
       "    </tr>\n",
       "    <tr>\n",
       "      <th>3</th>\n",
       "      <td>3000</td>\n",
       "      <td>Amersfoort</td>\n",
       "      <td>Amsterdam</td>\n",
       "    </tr>\n",
       "    <tr>\n",
       "      <th>4</th>\n",
       "      <td>3104</td>\n",
       "      <td>Utrecht</td>\n",
       "      <td>'s-Hertogenbosch</td>\n",
       "    </tr>\n",
       "    <tr>\n",
       "      <th>...</th>\n",
       "      <td>...</td>\n",
       "      <td>...</td>\n",
       "      <td>...</td>\n",
       "    </tr>\n",
       "    <tr>\n",
       "      <th>93</th>\n",
       "      <td>3022</td>\n",
       "      <td>Arnhem</td>\n",
       "      <td>Duitse grens</td>\n",
       "    </tr>\n",
       "    <tr>\n",
       "      <th>94</th>\n",
       "      <td>3210</td>\n",
       "      <td>Bergen op Zoom</td>\n",
       "      <td>Rotterdam</td>\n",
       "    </tr>\n",
       "    <tr>\n",
       "      <th>95</th>\n",
       "      <td>3210</td>\n",
       "      <td>Rotterdam</td>\n",
       "      <td>Bergen op Zoom</td>\n",
       "    </tr>\n",
       "    <tr>\n",
       "      <th>96</th>\n",
       "      <td>3600</td>\n",
       "      <td>Rotterdam</td>\n",
       "      <td>Schoonhoven</td>\n",
       "    </tr>\n",
       "    <tr>\n",
       "      <th>97</th>\n",
       "      <td>3600</td>\n",
       "      <td>Schoonhoven</td>\n",
       "      <td>Rotterdam</td>\n",
       "    </tr>\n",
       "  </tbody>\n",
       "</table>\n",
       "<p>122247 rows × 3 columns</p>\n",
       "</div>"
      ],
      "text/plain": [
       "    roadwork_segmentid    segmentstart        segmentend\n",
       "0                 3002       Apeldoorn           Hengelo\n",
       "1                 3002       Apeldoorn           Hengelo\n",
       "2                 3000      Amersfoort         Amsterdam\n",
       "3                 3000      Amersfoort         Amsterdam\n",
       "4                 3104         Utrecht  's-Hertogenbosch\n",
       "..                 ...             ...               ...\n",
       "93                3022          Arnhem      Duitse grens\n",
       "94                3210  Bergen op Zoom         Rotterdam\n",
       "95                3210       Rotterdam    Bergen op Zoom\n",
       "96                3600       Rotterdam       Schoonhoven\n",
       "97                3600     Schoonhoven         Rotterdam\n",
       "\n",
       "[122247 rows x 3 columns]"
      ]
     },
     "execution_count": 92,
     "metadata": {},
     "output_type": "execute_result"
    }
   ],
   "source": [
    "bdf[['roadwork_segmentid', 'segmentstart', 'segmentend']]"
   ]
  },
  {
   "cell_type": "markdown",
   "id": "4659939c",
   "metadata": {},
   "source": [
    "the segment columns indicate again the main start and endpoints of the roadworks, with the segmentid being an identifier for this segment."
   ]
  },
  {
   "cell_type": "code",
   "execution_count": 98,
   "id": "5318b498",
   "metadata": {},
   "outputs": [
    {
     "data": {
      "text/plain": [
       "array([0, 3, 4])"
      ]
     },
     "execution_count": 98,
     "metadata": {},
     "output_type": "execute_result"
    }
   ],
   "source": [
    "# bdf[['roadwork_afrc', 'roadwork_category', 'roadwork_type']]\n",
    "bdf['roadwork_afrc'].unique()"
   ]
  },
  {
   "cell_type": "markdown",
   "id": "7f243557",
   "metadata": {},
   "source": [
    "roadwork_afrc contains 3 numerical values, these seem to be categorical but we do not know what it is refering."
   ]
  },
  {
   "cell_type": "code",
   "execution_count": 100,
   "id": "97a4063b",
   "metadata": {},
   "outputs": [
    {
     "data": {
      "text/plain": [
       "array(['roadworks'], dtype=object)"
      ]
     },
     "execution_count": 100,
     "metadata": {},
     "output_type": "execute_result"
    }
   ],
   "source": [
    "bdf['roadwork_category'].unique()"
   ]
  },
  {
   "cell_type": "markdown",
   "id": "366dbd69",
   "metadata": {},
   "source": [
    "roadworks_category only contains the string 'roadworks' this gives no further information and can be ignored."
   ]
  },
  {
   "cell_type": "code",
   "execution_count": 101,
   "id": "6ed64562",
   "metadata": {},
   "outputs": [
    {
     "data": {
      "text/plain": [
       "array(['a', 'n'], dtype=object)"
      ]
     },
     "execution_count": 101,
     "metadata": {},
     "output_type": "execute_result"
    }
   ],
   "source": [
    "bdf['roadwork_type'].unique()"
   ]
  },
  {
   "cell_type": "markdown",
   "id": "425299ef",
   "metadata": {},
   "source": [
    "roadwork_type contains two categorical values: a and n, these could reffer to the two types of main roads: A and N, however this has already been specified and would thus be unnecessary."
   ]
  },
  {
   "cell_type": "code",
   "execution_count": 7,
   "id": "4bd66790",
   "metadata": {},
   "outputs": [
    {
     "data": {
      "text/html": [
       "<div>\n",
       "<style scoped>\n",
       "    .dataframe tbody tr th:only-of-type {\n",
       "        vertical-align: middle;\n",
       "    }\n",
       "\n",
       "    .dataframe tbody tr th {\n",
       "        vertical-align: top;\n",
       "    }\n",
       "\n",
       "    .dataframe thead th {\n",
       "        text-align: right;\n",
       "    }\n",
       "</style>\n",
       "<table border=\"1\" class=\"dataframe\">\n",
       "  <thead>\n",
       "    <tr style=\"text-align: right;\">\n",
       "      <th></th>\n",
       "      <th>roadwork_id</th>\n",
       "      <th>radar_codedirection</th>\n",
       "      <th>roadwork_fromloc_lat</th>\n",
       "      <th>roadwork_fromloc_lon</th>\n",
       "      <th>roadwork_toloc_lat</th>\n",
       "      <th>roadwork_toloc_lon</th>\n",
       "      <th>roadwork_segmentid</th>\n",
       "      <th>roadwork_afrc</th>\n",
       "    </tr>\n",
       "  </thead>\n",
       "  <tbody>\n",
       "    <tr>\n",
       "      <th>count</th>\n",
       "      <td>2.624000e+03</td>\n",
       "      <td>2624.000000</td>\n",
       "      <td>2624.000000</td>\n",
       "      <td>2624.000000</td>\n",
       "      <td>2624.000000</td>\n",
       "      <td>2624.000000</td>\n",
       "      <td>2624.000000</td>\n",
       "      <td>2624.000000</td>\n",
       "    </tr>\n",
       "    <tr>\n",
       "      <th>mean</th>\n",
       "      <td>4.392437e+08</td>\n",
       "      <td>0.703125</td>\n",
       "      <td>52.108994</td>\n",
       "      <td>5.351991</td>\n",
       "      <td>52.108366</td>\n",
       "      <td>5.352072</td>\n",
       "      <td>3700.841082</td>\n",
       "      <td>0.870046</td>\n",
       "    </tr>\n",
       "    <tr>\n",
       "      <th>std</th>\n",
       "      <td>6.111972e+08</td>\n",
       "      <td>0.678557</td>\n",
       "      <td>0.530887</td>\n",
       "      <td>0.799837</td>\n",
       "      <td>0.532990</td>\n",
       "      <td>0.800109</td>\n",
       "      <td>1811.779190</td>\n",
       "      <td>1.361567</td>\n",
       "    </tr>\n",
       "    <tr>\n",
       "      <th>min</th>\n",
       "      <td>2.283805e+08</td>\n",
       "      <td>0.000000</td>\n",
       "      <td>50.818840</td>\n",
       "      <td>4.009850</td>\n",
       "      <td>50.818840</td>\n",
       "      <td>4.009850</td>\n",
       "      <td>3000.000000</td>\n",
       "      <td>0.000000</td>\n",
       "    </tr>\n",
       "    <tr>\n",
       "      <th>25%</th>\n",
       "      <td>2.829069e+08</td>\n",
       "      <td>0.000000</td>\n",
       "      <td>51.822330</td>\n",
       "      <td>4.668280</td>\n",
       "      <td>51.822330</td>\n",
       "      <td>4.679400</td>\n",
       "      <td>3185.750000</td>\n",
       "      <td>0.000000</td>\n",
       "    </tr>\n",
       "    <tr>\n",
       "      <th>50%</th>\n",
       "      <td>2.840635e+08</td>\n",
       "      <td>1.000000</td>\n",
       "      <td>52.016110</td>\n",
       "      <td>5.376370</td>\n",
       "      <td>52.016110</td>\n",
       "      <td>5.376370</td>\n",
       "      <td>3349.000000</td>\n",
       "      <td>0.000000</td>\n",
       "    </tr>\n",
       "    <tr>\n",
       "      <th>75%</th>\n",
       "      <td>2.849895e+08</td>\n",
       "      <td>1.000000</td>\n",
       "      <td>52.441440</td>\n",
       "      <td>6.006570</td>\n",
       "      <td>52.441440</td>\n",
       "      <td>6.006570</td>\n",
       "      <td>3461.000000</td>\n",
       "      <td>3.000000</td>\n",
       "    </tr>\n",
       "    <tr>\n",
       "      <th>max</th>\n",
       "      <td>2.851187e+09</td>\n",
       "      <td>2.000000</td>\n",
       "      <td>53.317460</td>\n",
       "      <td>6.971020</td>\n",
       "      <td>53.317460</td>\n",
       "      <td>6.971020</td>\n",
       "      <td>22571.000000</td>\n",
       "      <td>3.000000</td>\n",
       "    </tr>\n",
       "  </tbody>\n",
       "</table>\n",
       "</div>"
      ],
      "text/plain": [
       "        roadwork_id  radar_codedirection  roadwork_fromloc_lat  \\\n",
       "count  2.624000e+03          2624.000000           2624.000000   \n",
       "mean   4.392437e+08             0.703125             52.108994   \n",
       "std    6.111972e+08             0.678557              0.530887   \n",
       "min    2.283805e+08             0.000000             50.818840   \n",
       "25%    2.829069e+08             0.000000             51.822330   \n",
       "50%    2.840635e+08             1.000000             52.016110   \n",
       "75%    2.849895e+08             1.000000             52.441440   \n",
       "max    2.851187e+09             2.000000             53.317460   \n",
       "\n",
       "       roadwork_fromloc_lon  roadwork_toloc_lat  roadwork_toloc_lon  \\\n",
       "count           2624.000000         2624.000000         2624.000000   \n",
       "mean               5.351991           52.108366            5.352072   \n",
       "std                0.799837            0.532990            0.800109   \n",
       "min                4.009850           50.818840            4.009850   \n",
       "25%                4.668280           51.822330            4.679400   \n",
       "50%                5.376370           52.016110            5.376370   \n",
       "75%                6.006570           52.441440            6.006570   \n",
       "max                6.971020           53.317460            6.971020   \n",
       "\n",
       "       roadwork_segmentid  roadwork_afrc  \n",
       "count         2624.000000    2624.000000  \n",
       "mean          3700.841082       0.870046  \n",
       "std           1811.779190       1.361567  \n",
       "min           3000.000000       0.000000  \n",
       "25%           3185.750000       0.000000  \n",
       "50%           3349.000000       0.000000  \n",
       "75%           3461.000000       3.000000  \n",
       "max          22571.000000       3.000000  "
      ]
     },
     "execution_count": 7,
     "metadata": {},
     "output_type": "execute_result"
    }
   ],
   "source": [
    "df.describe()"
   ]
  },
  {
   "cell_type": "markdown",
   "id": "9b0a0c27",
   "metadata": {},
   "source": [
    "The numerical values described above, seem to all not actually be numerical values that can be used as such. For example the roadwork_loc columns contain latitude and longtitude values that are linked to a location within the Netherlands, specifically roadpoints."
   ]
  },
  {
   "cell_type": "code",
   "execution_count": 106,
   "id": "85e2e4a1",
   "metadata": {},
   "outputs": [],
   "source": [
    "# sns.histplot(y=df['roadwork_segmentid'])\n",
    "\n",
    "# g = sns.histplot(y=df['roadwork_segmentid'])\n",
    "# g.set_xlim(left=0, right=5)\n"
   ]
  }
 ],
 "metadata": {
  "kernelspec": {
   "display_name": "Python 3 (ipykernel)",
   "language": "python",
   "name": "python3"
  },
  "language_info": {
   "codemirror_mode": {
    "name": "ipython",
    "version": 3
   },
   "file_extension": ".py",
   "mimetype": "text/x-python",
   "name": "python",
   "nbconvert_exporter": "python",
   "pygments_lexer": "ipython3",
   "version": "3.9.7"
  }
 },
 "nbformat": 4,
 "nbformat_minor": 5
}
