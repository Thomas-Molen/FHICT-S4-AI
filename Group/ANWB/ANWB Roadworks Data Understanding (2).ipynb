{
 "cells": [
  {
   "cell_type": "code",
   "execution_count": 2,
   "id": "9e5e8431",
   "metadata": {
    "scrolled": true
   },
   "outputs": [
    {
     "name": "stdout",
     "output_type": "stream",
     "text": [
      "numpy version: 1.20.3\n",
      "pandas version: 1.3.4\n",
      "seaborn version: 0.11.2\n",
      "pyarrow version: 7.0.0\n"
     ]
    }
   ],
   "source": [
    "import pandas as pd\n",
    "import numpy as np\n",
    "import seaborn as sns\n",
    "import matplotlib.pyplot as plt\n",
    "import pyarrow as pa\n",
    "\n",
    "print('numpy version:', np.__version__)\n",
    "print('pandas version:', pd.__version__)\n",
    "print('seaborn version:', sns.__version__)\n",
    "print('pyarrow version:', pa.__version__)\n"
   ]
  },
  {
   "cell_type": "markdown",
   "id": "fa606204",
   "metadata": {},
   "source": [
    "# Data Importing"
   ]
  },
  {
   "cell_type": "markdown",
   "id": "1e2ae5cf",
   "metadata": {},
   "source": [
    "Loading both a single parquet file and all files into dataframes for examination."
   ]
  },
  {
   "cell_type": "code",
   "execution_count": 98,
   "id": "959e9023",
   "metadata": {},
   "outputs": [],
   "source": [
    "import glob\n",
    "\n",
    "# Local path to the dataset files: roadworks folder contains the parquets in this case\n",
    "# localpath = '/Stuff/School/SOFT/FHICT-S4-AI/Group/ANWB/roadworks'\n",
    "# isFirstRun = True\n",
    "# filesRead = 0\n",
    "# for path in glob.glob(f\"{localpath}/*\"):\n",
    "    \n",
    "\n",
    "# #   Setting the relative path: this notebook is in the same directory as the roadworks folder that contains the parquets \n",
    "#     path = path.replace(f\"{localpath}\\\\\", \"roadworks/\")\n",
    "#     if (path == 'roadworks/_SUCCESS'):\n",
    "#         continue\n",
    "#     else:\n",
    "#         filesRead += 1\n",
    "#         print(f\"files read: \\033[1m {filesRead}\\033[0m\")\n",
    "#         if (isFirstRun):\n",
    "#             bdf = pd.read_parquet(path)\n",
    "#             isFirstRun = False\n",
    "#         else:\n",
    "#             bdf = bdf.append(pd.read_parquet(path))\n",
    "\n",
    "bdf = pd.read_csv('updatedroadworks.csv',parse_dates=['loaddatetimeutc', 'roadwork_start', 'roadwork_stop'])\n",
    "\n",
    "sdf = pd.read_parquet(\"roadworks/part-00000-6d331a6a-a08a-4cfc-ad2c-d184f64be97e-c000.snappy.parquet\")\n",
    "\n",
    "pd.set_option('display.max_columns', None)\n"
   ]
  },
  {
   "cell_type": "markdown",
   "id": "2e4809f9",
   "metadata": {},
   "source": [
    "# Data Understanding"
   ]
  },
  {
   "cell_type": "code",
   "execution_count": 99,
   "id": "ca20154e",
   "metadata": {},
   "outputs": [
    {
     "data": {
      "text/html": [
       "<div>\n",
       "<style scoped>\n",
       "    .dataframe tbody tr th:only-of-type {\n",
       "        vertical-align: middle;\n",
       "    }\n",
       "\n",
       "    .dataframe tbody tr th {\n",
       "        vertical-align: top;\n",
       "    }\n",
       "\n",
       "    .dataframe thead th {\n",
       "        text-align: right;\n",
       "    }\n",
       "</style>\n",
       "<table border=\"1\" class=\"dataframe\">\n",
       "  <thead>\n",
       "    <tr style=\"text-align: right;\">\n",
       "      <th></th>\n",
       "      <th>Unnamed: 0</th>\n",
       "      <th>Unnamed: 0.1</th>\n",
       "      <th>Unnamed: 0.1.1</th>\n",
       "      <th>roadwork_id</th>\n",
       "      <th>loaddatetimeutc</th>\n",
       "      <th>road</th>\n",
       "      <th>type</th>\n",
       "      <th>roadwork_from</th>\n",
       "      <th>roadwork_to</th>\n",
       "      <th>roadwork_label</th>\n",
       "      <th>roadwork_reason</th>\n",
       "      <th>roadwork_start</th>\n",
       "      <th>roadwork_stop</th>\n",
       "      <th>radar_codedirection</th>\n",
       "      <th>roadwork_fromloc_lat</th>\n",
       "      <th>roadwork_fromloc_lon</th>\n",
       "      <th>roadwork_toloc_lat</th>\n",
       "      <th>roadwork_toloc_lon</th>\n",
       "      <th>roadwork_segmentid</th>\n",
       "      <th>segmentstart</th>\n",
       "      <th>segmentend</th>\n",
       "      <th>roadwork_afrc</th>\n",
       "      <th>roadwork_category</th>\n",
       "      <th>roadwork_type</th>\n",
       "    </tr>\n",
       "  </thead>\n",
       "  <tbody>\n",
       "    <tr>\n",
       "      <th>0</th>\n",
       "      <td>0</td>\n",
       "      <td>0</td>\n",
       "      <td>0</td>\n",
       "      <td>245069631.0</td>\n",
       "      <td>2020-07-13 16:48:00</td>\n",
       "      <td>A15</td>\n",
       "      <td>a</td>\n",
       "      <td>de Botlektunnel</td>\n",
       "      <td>de Botlektunnel</td>\n",
       "      <td>NaN</td>\n",
       "      <td>De brug is versperd. Van 14 juli 2020 22:00 uu...</td>\n",
       "      <td>2020-07-14 20:00:00</td>\n",
       "      <td>2020-07-15 03:00:00</td>\n",
       "      <td>0.0</td>\n",
       "      <td>51.87055</td>\n",
       "      <td>4.33089</td>\n",
       "      <td>51.87055</td>\n",
       "      <td>4.33089</td>\n",
       "      <td>3059.0</td>\n",
       "      <td>Rotterdam</td>\n",
       "      <td>Europoort</td>\n",
       "      <td>0.0</td>\n",
       "      <td>roadworks</td>\n",
       "      <td>a</td>\n",
       "    </tr>\n",
       "    <tr>\n",
       "      <th>1</th>\n",
       "      <td>1</td>\n",
       "      <td>1</td>\n",
       "      <td>1</td>\n",
       "      <td>244997097.0</td>\n",
       "      <td>2020-07-13 16:59:00</td>\n",
       "      <td>N7</td>\n",
       "      <td>n</td>\n",
       "      <td>Groningen-Helpman</td>\n",
       "      <td>Groningen-Helpman</td>\n",
       "      <td>closed</td>\n",
       "      <td>De afrit is dicht. Van 13 juli 2020 06:00 uur ...</td>\n",
       "      <td>2020-07-13 04:00:00</td>\n",
       "      <td>2020-07-13 17:00:00</td>\n",
       "      <td>1.0</td>\n",
       "      <td>53.20534</td>\n",
       "      <td>6.57403</td>\n",
       "      <td>53.20534</td>\n",
       "      <td>6.57403</td>\n",
       "      <td>3412.0</td>\n",
       "      <td>Groningen</td>\n",
       "      <td>Duitse grens</td>\n",
       "      <td>3.0</td>\n",
       "      <td>roadworks</td>\n",
       "      <td>n</td>\n",
       "    </tr>\n",
       "    <tr>\n",
       "      <th>2</th>\n",
       "      <td>2</td>\n",
       "      <td>2</td>\n",
       "      <td>2</td>\n",
       "      <td>245068994.0</td>\n",
       "      <td>2020-07-13 18:28:00</td>\n",
       "      <td>A10</td>\n",
       "      <td>a</td>\n",
       "      <td>afrit Haarlem</td>\n",
       "      <td>Amsterdam-Slotermeer</td>\n",
       "      <td>closed</td>\n",
       "      <td>Oprit dicht. Van 14 juli 2020 21:00 uur tot 15...</td>\n",
       "      <td>2020-07-14 19:00:00</td>\n",
       "      <td>2020-07-15 03:00:00</td>\n",
       "      <td>0.0</td>\n",
       "      <td>52.38177</td>\n",
       "      <td>4.84478</td>\n",
       "      <td>52.37517</td>\n",
       "      <td>4.84282</td>\n",
       "      <td>3014.0</td>\n",
       "      <td>knp. Coenplein</td>\n",
       "      <td>knp. De Nieuwe Meer</td>\n",
       "      <td>0.0</td>\n",
       "      <td>roadworks</td>\n",
       "      <td>a</td>\n",
       "    </tr>\n",
       "    <tr>\n",
       "      <th>3</th>\n",
       "      <td>3</td>\n",
       "      <td>3</td>\n",
       "      <td>3</td>\n",
       "      <td>245068546.0</td>\n",
       "      <td>2020-07-13 18:28:00</td>\n",
       "      <td>A7</td>\n",
       "      <td>a</td>\n",
       "      <td>Sappemeer</td>\n",
       "      <td>Foxhol</td>\n",
       "      <td>closed</td>\n",
       "      <td>Oprit dicht. Van 14 juli 2020 20:00 uur tot 15...</td>\n",
       "      <td>2020-07-14 18:00:00</td>\n",
       "      <td>2020-07-15 04:00:00</td>\n",
       "      <td>0.0</td>\n",
       "      <td>53.16719</td>\n",
       "      <td>6.80953</td>\n",
       "      <td>53.17849</td>\n",
       "      <td>6.73195</td>\n",
       "      <td>3404.0</td>\n",
       "      <td>Duitse grens</td>\n",
       "      <td>Groningen</td>\n",
       "      <td>0.0</td>\n",
       "      <td>roadworks</td>\n",
       "      <td>a</td>\n",
       "    </tr>\n",
       "    <tr>\n",
       "      <th>4</th>\n",
       "      <td>4</td>\n",
       "      <td>4</td>\n",
       "      <td>4</td>\n",
       "      <td>244997614.0</td>\n",
       "      <td>2020-07-13 22:59:00</td>\n",
       "      <td>N31</td>\n",
       "      <td>n</td>\n",
       "      <td>Leeuwarden</td>\n",
       "      <td>Leeuwarden</td>\n",
       "      <td>closed</td>\n",
       "      <td>De op- en afrit is dicht. Van 13 juli 2020 21:...</td>\n",
       "      <td>2020-07-13 19:00:00</td>\n",
       "      <td>2020-07-13 23:00:00</td>\n",
       "      <td>0.0</td>\n",
       "      <td>53.18943</td>\n",
       "      <td>5.74664</td>\n",
       "      <td>53.18943</td>\n",
       "      <td>5.74664</td>\n",
       "      <td>3232.0</td>\n",
       "      <td>Drachten</td>\n",
       "      <td>Leeuwarden</td>\n",
       "      <td>3.0</td>\n",
       "      <td>roadworks</td>\n",
       "      <td>n</td>\n",
       "    </tr>\n",
       "  </tbody>\n",
       "</table>\n",
       "</div>"
      ],
      "text/plain": [
       "   Unnamed: 0  Unnamed: 0.1  Unnamed: 0.1.1  roadwork_id     loaddatetimeutc  \\\n",
       "0           0             0               0  245069631.0 2020-07-13 16:48:00   \n",
       "1           1             1               1  244997097.0 2020-07-13 16:59:00   \n",
       "2           2             2               2  245068994.0 2020-07-13 18:28:00   \n",
       "3           3             3               3  245068546.0 2020-07-13 18:28:00   \n",
       "4           4             4               4  244997614.0 2020-07-13 22:59:00   \n",
       "\n",
       "  road type      roadwork_from           roadwork_to roadwork_label  \\\n",
       "0  A15    a    de Botlektunnel       de Botlektunnel            NaN   \n",
       "1   N7    n  Groningen-Helpman     Groningen-Helpman         closed   \n",
       "2  A10    a      afrit Haarlem  Amsterdam-Slotermeer         closed   \n",
       "3   A7    a          Sappemeer                Foxhol         closed   \n",
       "4  N31    n         Leeuwarden            Leeuwarden         closed   \n",
       "\n",
       "                                     roadwork_reason      roadwork_start  \\\n",
       "0  De brug is versperd. Van 14 juli 2020 22:00 uu... 2020-07-14 20:00:00   \n",
       "1  De afrit is dicht. Van 13 juli 2020 06:00 uur ... 2020-07-13 04:00:00   \n",
       "2  Oprit dicht. Van 14 juli 2020 21:00 uur tot 15... 2020-07-14 19:00:00   \n",
       "3  Oprit dicht. Van 14 juli 2020 20:00 uur tot 15... 2020-07-14 18:00:00   \n",
       "4  De op- en afrit is dicht. Van 13 juli 2020 21:... 2020-07-13 19:00:00   \n",
       "\n",
       "        roadwork_stop  radar_codedirection  roadwork_fromloc_lat  \\\n",
       "0 2020-07-15 03:00:00                  0.0              51.87055   \n",
       "1 2020-07-13 17:00:00                  1.0              53.20534   \n",
       "2 2020-07-15 03:00:00                  0.0              52.38177   \n",
       "3 2020-07-15 04:00:00                  0.0              53.16719   \n",
       "4 2020-07-13 23:00:00                  0.0              53.18943   \n",
       "\n",
       "   roadwork_fromloc_lon  roadwork_toloc_lat  roadwork_toloc_lon  \\\n",
       "0               4.33089            51.87055             4.33089   \n",
       "1               6.57403            53.20534             6.57403   \n",
       "2               4.84478            52.37517             4.84282   \n",
       "3               6.80953            53.17849             6.73195   \n",
       "4               5.74664            53.18943             5.74664   \n",
       "\n",
       "   roadwork_segmentid    segmentstart           segmentend  roadwork_afrc  \\\n",
       "0              3059.0       Rotterdam            Europoort            0.0   \n",
       "1              3412.0       Groningen         Duitse grens            3.0   \n",
       "2              3014.0  knp. Coenplein  knp. De Nieuwe Meer            0.0   \n",
       "3              3404.0    Duitse grens            Groningen            0.0   \n",
       "4              3232.0        Drachten           Leeuwarden            3.0   \n",
       "\n",
       "  roadwork_category roadwork_type  \n",
       "0         roadworks             a  \n",
       "1         roadworks             n  \n",
       "2         roadworks             a  \n",
       "3         roadworks             a  \n",
       "4         roadworks             n  "
      ]
     },
     "execution_count": 99,
     "metadata": {},
     "output_type": "execute_result"
    }
   ],
   "source": [
    "odf = bdf.copy()\n",
    "odf.head()"
   ]
  },
  {
   "cell_type": "code",
   "execution_count": 100,
   "id": "73544d6b",
   "metadata": {},
   "outputs": [
    {
     "name": "stdout",
     "output_type": "stream",
     "text": [
      "<class 'pandas.core.frame.DataFrame'>\n",
      "RangeIndex: 7038 entries, 0 to 7037\n",
      "Data columns (total 24 columns):\n",
      " #   Column                Non-Null Count  Dtype         \n",
      "---  ------                --------------  -----         \n",
      " 0   Unnamed: 0            7038 non-null   int64         \n",
      " 1   Unnamed: 0.1          7038 non-null   int64         \n",
      " 2   Unnamed: 0.1.1        7038 non-null   int64         \n",
      " 3   roadwork_id           7038 non-null   float64       \n",
      " 4   loaddatetimeutc       7038 non-null   datetime64[ns]\n",
      " 5   road                  7038 non-null   object        \n",
      " 6   type                  7038 non-null   object        \n",
      " 7   roadwork_from         7038 non-null   object        \n",
      " 8   roadwork_to           7038 non-null   object        \n",
      " 9   roadwork_label        6729 non-null   object        \n",
      " 10  roadwork_reason       7038 non-null   object        \n",
      " 11  roadwork_start        7038 non-null   datetime64[ns]\n",
      " 12  roadwork_stop         7038 non-null   datetime64[ns]\n",
      " 13  radar_codedirection   7038 non-null   float64       \n",
      " 14  roadwork_fromloc_lat  7038 non-null   float64       \n",
      " 15  roadwork_fromloc_lon  7038 non-null   float64       \n",
      " 16  roadwork_toloc_lat    7038 non-null   float64       \n",
      " 17  roadwork_toloc_lon    7038 non-null   float64       \n",
      " 18  roadwork_segmentid    7038 non-null   float64       \n",
      " 19  segmentstart          7038 non-null   object        \n",
      " 20  segmentend            7038 non-null   object        \n",
      " 21  roadwork_afrc         7038 non-null   float64       \n",
      " 22  roadwork_category     7038 non-null   object        \n",
      " 23  roadwork_type         7038 non-null   object        \n",
      "dtypes: datetime64[ns](3), float64(8), int64(3), object(10)\n",
      "memory usage: 1.3+ MB\n"
     ]
    }
   ],
   "source": [
    "bdf.info()"
   ]
  },
  {
   "cell_type": "code",
   "execution_count": 101,
   "id": "28cfd569",
   "metadata": {},
   "outputs": [
    {
     "data": {
      "text/html": [
       "<div>\n",
       "<style scoped>\n",
       "    .dataframe tbody tr th:only-of-type {\n",
       "        vertical-align: middle;\n",
       "    }\n",
       "\n",
       "    .dataframe tbody tr th {\n",
       "        vertical-align: top;\n",
       "    }\n",
       "\n",
       "    .dataframe thead th {\n",
       "        text-align: right;\n",
       "    }\n",
       "</style>\n",
       "<table border=\"1\" class=\"dataframe\">\n",
       "  <thead>\n",
       "    <tr style=\"text-align: right;\">\n",
       "      <th></th>\n",
       "      <th>roadwork_id</th>\n",
       "      <th>loaddatetimeutc</th>\n",
       "      <th>road</th>\n",
       "      <th>type</th>\n",
       "      <th>roadwork_from</th>\n",
       "      <th>roadwork_to</th>\n",
       "      <th>roadwork_label</th>\n",
       "      <th>roadwork_reason</th>\n",
       "      <th>roadwork_start</th>\n",
       "      <th>roadwork_stop</th>\n",
       "      <th>radar_codedirection</th>\n",
       "      <th>roadwork_fromloc_lat</th>\n",
       "      <th>roadwork_fromloc_lon</th>\n",
       "      <th>roadwork_toloc_lat</th>\n",
       "      <th>roadwork_toloc_lon</th>\n",
       "      <th>roadwork_segmentid</th>\n",
       "      <th>segmentstart</th>\n",
       "      <th>segmentend</th>\n",
       "      <th>roadwork_afrc</th>\n",
       "      <th>roadwork_category</th>\n",
       "      <th>roadwork_type</th>\n",
       "    </tr>\n",
       "  </thead>\n",
       "  <tbody>\n",
       "    <tr>\n",
       "      <th>0</th>\n",
       "      <td>284989500</td>\n",
       "      <td>2021-09-09 16:00:00</td>\n",
       "      <td>A1</td>\n",
       "      <td>a</td>\n",
       "      <td>afrit Markelo</td>\n",
       "      <td>afrit Markelo</td>\n",
       "      <td>closed</td>\n",
       "      <td>De afrit is dicht. Van 10 september 2021 20:00...</td>\n",
       "      <td>2021-09-10 18:00:00</td>\n",
       "      <td>2021-09-11 04:00:00</td>\n",
       "      <td>1</td>\n",
       "      <td>52.26259</td>\n",
       "      <td>6.45569</td>\n",
       "      <td>52.26259</td>\n",
       "      <td>6.45569</td>\n",
       "      <td>3002</td>\n",
       "      <td>Apeldoorn</td>\n",
       "      <td>Hengelo</td>\n",
       "      <td>0</td>\n",
       "      <td>roadworks</td>\n",
       "      <td>a</td>\n",
       "    </tr>\n",
       "    <tr>\n",
       "      <th>1</th>\n",
       "      <td>284989684</td>\n",
       "      <td>2021-09-09 16:00:00</td>\n",
       "      <td>A1</td>\n",
       "      <td>a</td>\n",
       "      <td>Deventer</td>\n",
       "      <td>Deventer</td>\n",
       "      <td>closed</td>\n",
       "      <td>De op- en afrit is dicht. Van 10 september 202...</td>\n",
       "      <td>2021-09-10 19:00:00</td>\n",
       "      <td>2021-09-11 04:00:00</td>\n",
       "      <td>1</td>\n",
       "      <td>52.23441</td>\n",
       "      <td>6.18282</td>\n",
       "      <td>52.23441</td>\n",
       "      <td>6.18282</td>\n",
       "      <td>3002</td>\n",
       "      <td>Apeldoorn</td>\n",
       "      <td>Hengelo</td>\n",
       "      <td>0</td>\n",
       "      <td>roadworks</td>\n",
       "      <td>a</td>\n",
       "    </tr>\n",
       "    <tr>\n",
       "      <th>2</th>\n",
       "      <td>284989585</td>\n",
       "      <td>2021-09-09 16:00:00</td>\n",
       "      <td>A1</td>\n",
       "      <td>a</td>\n",
       "      <td>knp. Hoevelaken</td>\n",
       "      <td>Amersfoort-Noord</td>\n",
       "      <td>closed</td>\n",
       "      <td>Dicht. Van 10 september 2021 22:00 uur tot 11 ...</td>\n",
       "      <td>2021-09-10 20:00:00</td>\n",
       "      <td>2021-09-11 05:00:00</td>\n",
       "      <td>0</td>\n",
       "      <td>52.17580</td>\n",
       "      <td>5.42840</td>\n",
       "      <td>52.19401</td>\n",
       "      <td>5.40317</td>\n",
       "      <td>3000</td>\n",
       "      <td>Amersfoort</td>\n",
       "      <td>Amsterdam</td>\n",
       "      <td>0</td>\n",
       "      <td>roadworks</td>\n",
       "      <td>a</td>\n",
       "    </tr>\n",
       "    <tr>\n",
       "      <th>3</th>\n",
       "      <td>284989410</td>\n",
       "      <td>2021-09-09 16:00:00</td>\n",
       "      <td>A1</td>\n",
       "      <td>a</td>\n",
       "      <td>afrit Soest</td>\n",
       "      <td>afrit Soest</td>\n",
       "      <td>closed</td>\n",
       "      <td>Oprit dicht. Van 9 september 2021 21:00 uur to...</td>\n",
       "      <td>2021-09-09 19:00:00</td>\n",
       "      <td>2021-09-10 03:00:00</td>\n",
       "      <td>0</td>\n",
       "      <td>52.22478</td>\n",
       "      <td>5.25528</td>\n",
       "      <td>52.22478</td>\n",
       "      <td>5.25528</td>\n",
       "      <td>3000</td>\n",
       "      <td>Amersfoort</td>\n",
       "      <td>Amsterdam</td>\n",
       "      <td>0</td>\n",
       "      <td>roadworks</td>\n",
       "      <td>a</td>\n",
       "    </tr>\n",
       "    <tr>\n",
       "      <th>4</th>\n",
       "      <td>284989774</td>\n",
       "      <td>2021-09-09 16:00:00</td>\n",
       "      <td>A2</td>\n",
       "      <td>a</td>\n",
       "      <td>Nieuwegein</td>\n",
       "      <td>Nieuwegein</td>\n",
       "      <td>closed</td>\n",
       "      <td>De afrit is dicht. Van 10 september 2021 22:00...</td>\n",
       "      <td>2021-09-10 20:00:00</td>\n",
       "      <td>2021-09-13 03:00:00</td>\n",
       "      <td>0</td>\n",
       "      <td>52.02208</td>\n",
       "      <td>5.06477</td>\n",
       "      <td>52.02208</td>\n",
       "      <td>5.06477</td>\n",
       "      <td>3104</td>\n",
       "      <td>Utrecht</td>\n",
       "      <td>'s-Hertogenbosch</td>\n",
       "      <td>0</td>\n",
       "      <td>roadworks</td>\n",
       "      <td>a</td>\n",
       "    </tr>\n",
       "  </tbody>\n",
       "</table>\n",
       "</div>"
      ],
      "text/plain": [
       "   roadwork_id     loaddatetimeutc road type    roadwork_from  \\\n",
       "0    284989500 2021-09-09 16:00:00   A1    a    afrit Markelo   \n",
       "1    284989684 2021-09-09 16:00:00   A1    a         Deventer   \n",
       "2    284989585 2021-09-09 16:00:00   A1    a  knp. Hoevelaken   \n",
       "3    284989410 2021-09-09 16:00:00   A1    a      afrit Soest   \n",
       "4    284989774 2021-09-09 16:00:00   A2    a       Nieuwegein   \n",
       "\n",
       "        roadwork_to roadwork_label  \\\n",
       "0     afrit Markelo         closed   \n",
       "1          Deventer         closed   \n",
       "2  Amersfoort-Noord         closed   \n",
       "3       afrit Soest         closed   \n",
       "4        Nieuwegein         closed   \n",
       "\n",
       "                                     roadwork_reason      roadwork_start  \\\n",
       "0  De afrit is dicht. Van 10 september 2021 20:00... 2021-09-10 18:00:00   \n",
       "1  De op- en afrit is dicht. Van 10 september 202... 2021-09-10 19:00:00   \n",
       "2  Dicht. Van 10 september 2021 22:00 uur tot 11 ... 2021-09-10 20:00:00   \n",
       "3  Oprit dicht. Van 9 september 2021 21:00 uur to... 2021-09-09 19:00:00   \n",
       "4  De afrit is dicht. Van 10 september 2021 22:00... 2021-09-10 20:00:00   \n",
       "\n",
       "        roadwork_stop  radar_codedirection  roadwork_fromloc_lat  \\\n",
       "0 2021-09-11 04:00:00                    1              52.26259   \n",
       "1 2021-09-11 04:00:00                    1              52.23441   \n",
       "2 2021-09-11 05:00:00                    0              52.17580   \n",
       "3 2021-09-10 03:00:00                    0              52.22478   \n",
       "4 2021-09-13 03:00:00                    0              52.02208   \n",
       "\n",
       "   roadwork_fromloc_lon  roadwork_toloc_lat  roadwork_toloc_lon  \\\n",
       "0               6.45569            52.26259             6.45569   \n",
       "1               6.18282            52.23441             6.18282   \n",
       "2               5.42840            52.19401             5.40317   \n",
       "3               5.25528            52.22478             5.25528   \n",
       "4               5.06477            52.02208             5.06477   \n",
       "\n",
       "   roadwork_segmentid segmentstart        segmentend  roadwork_afrc  \\\n",
       "0                3002    Apeldoorn           Hengelo              0   \n",
       "1                3002    Apeldoorn           Hengelo              0   \n",
       "2                3000   Amersfoort         Amsterdam              0   \n",
       "3                3000   Amersfoort         Amsterdam              0   \n",
       "4                3104      Utrecht  's-Hertogenbosch              0   \n",
       "\n",
       "  roadwork_category roadwork_type  \n",
       "0         roadworks             a  \n",
       "1         roadworks             a  \n",
       "2         roadworks             a  \n",
       "3         roadworks             a  \n",
       "4         roadworks             a  "
      ]
     },
     "execution_count": 101,
     "metadata": {},
     "output_type": "execute_result"
    }
   ],
   "source": [
    "sdf.head()"
   ]
  },
  {
   "cell_type": "markdown",
   "id": "91f50690",
   "metadata": {},
   "source": [
    "## Feature Research"
   ]
  },
  {
   "cell_type": "code",
   "execution_count": 102,
   "id": "319fa560",
   "metadata": {},
   "outputs": [
    {
     "data": {
      "text/plain": [
       "True"
      ]
     },
     "execution_count": 102,
     "metadata": {},
     "output_type": "execute_result"
    }
   ],
   "source": [
    "bdf[\"roadwork_id\"].is_unique"
   ]
  },
  {
   "cell_type": "markdown",
   "id": "ee96de23",
   "metadata": {},
   "source": [
    "roadwork_id, while being an Id is not a unique value in this dataset. This is because the same roadworks have been set in the same dataset, this could be because information changed of the roadwork, or could be that the record was just collected multiple times.  \n",
    "This will have to be explored and cleaned, afterwards roadwork_id should be able to be used as index."
   ]
  },
  {
   "cell_type": "code",
   "execution_count": 103,
   "id": "08638246",
   "metadata": {},
   "outputs": [
    {
     "data": {
      "text/plain": [
       "array(['2021-09-09T16:00:00.000000000', '2021-09-09T13:01:00.000000000',\n",
       "       '2021-09-09T14:01:00.000000000', '2021-09-09T15:00:00.000000000',\n",
       "       '2021-09-09T18:01:00.000000000', '2021-09-09T17:01:00.000000000',\n",
       "       '2021-09-09T23:00:00.000000000', '2021-09-10T02:00:00.000000000',\n",
       "       '2021-09-09T21:00:00.000000000', '2021-09-09T20:01:00.000000000',\n",
       "       '2021-09-09T22:01:00.000000000', '2021-09-10T01:00:00.000000000',\n",
       "       '2021-09-09T19:01:00.000000000', '2021-09-10T00:00:00.000000000',\n",
       "       '2021-09-09T12:01:00.000000000', '2021-08-26T17:01:00.000000000',\n",
       "       '2021-08-26T19:01:00.000000000', '2021-08-26T21:00:00.000000000',\n",
       "       '2021-08-26T18:01:00.000000000', '2021-08-26T20:00:00.000000000',\n",
       "       '2021-09-11T02:01:00.000000000', '2021-09-11T00:01:00.000000000',\n",
       "       '2021-08-26T22:00:00.000000000', '2021-08-26T23:00:00.000000000',\n",
       "       '2021-08-27T01:00:00.000000000', '2021-08-27T02:00:00.000000000',\n",
       "       '2021-08-27T00:00:00.000000000', '2021-09-11T03:01:00.000000000',\n",
       "       '2021-09-10T11:01:00.000000000', '2021-09-10T13:00:00.000000000',\n",
       "       '2021-09-10T12:01:00.000000000', '2021-09-10T15:01:00.000000000'],\n",
       "      dtype='datetime64[ns]')"
      ]
     },
     "execution_count": 103,
     "metadata": {},
     "output_type": "execute_result"
    }
   ],
   "source": [
    "sdf[\"loaddatetimeutc\"].unique()"
   ]
  },
  {
   "cell_type": "markdown",
   "id": "41b3b2ea",
   "metadata": {},
   "source": [
    "loaddatetimeutc seems to perfectly cover 1 day of datapoints, this could mean that the loaddatetimeutc is the time that the data was taken from ANWB and set into the original parquet file."
   ]
  },
  {
   "cell_type": "code",
   "execution_count": 104,
   "id": "3e101151",
   "metadata": {},
   "outputs": [
    {
     "data": {
      "text/plain": [
       "array(['A15', 'N7', 'A10', 'A7', 'N31', 'N48', 'A1', 'A29', 'A58', 'A4',\n",
       "       'A28', 'A16', 'A12', 'A5', 'A20', 'N57', 'N3', 'N50', 'A76', 'A6',\n",
       "       'A27', 'A32', 'A2', 'A13', 'A44', 'A59', 'A65', 'A17', 'N33', 'A9',\n",
       "       'N11', 'A50', 'A73', 'A35', 'A37', 'N36', 'A30', 'A325', 'N256',\n",
       "       'N200', 'A8', 'N361', 'A200', 'N14', 'A22', 'N99', 'N201', 'N46',\n",
       "       'N2', 'N59', 'N210', 'A38', 'A18', 'N309', 'N35', 'N252', 'N61',\n",
       "       'N307', 'A79', 'N62', 'N18', 'N325', 'A208', 'A77', 'N9', 'N306',\n",
       "       'N270', 'A67', 'A348', 'N34', 'N323', 'N310', 'N209', 'N405',\n",
       "       'N206', 'A31', 'N280', 'A326', 'N288', 'N44', 'N348', 'N377',\n",
       "       'N32', 'N65', 'N354', 'N345', 'N225', 'N211', 'A74', 'N392',\n",
       "       'N279', 'N207', 'N305', 'N343', 'N247', 'N228', 'N340', 'N301',\n",
       "       'N260', 'N239', 'N917', 'N362', 'N612', 'N786', 'N322', 'N351',\n",
       "       'N264', 'N304', 'N244', 'N440', 'N471', 'N370'], dtype=object)"
      ]
     },
     "execution_count": 104,
     "metadata": {},
     "output_type": "execute_result"
    }
   ],
   "source": [
    "bdf['road'].unique()"
   ]
  },
  {
   "cell_type": "markdown",
   "id": "e3125e0f",
   "metadata": {},
   "source": [
    "Road shows the main road that the construction was done on. This feature should be categorial dtype."
   ]
  },
  {
   "cell_type": "code",
   "execution_count": 105,
   "id": "4730533b",
   "metadata": {},
   "outputs": [
    {
     "data": {
      "text/plain": [
       "array(['a', 'n'], dtype=object)"
      ]
     },
     "execution_count": 105,
     "metadata": {},
     "output_type": "execute_result"
    }
   ],
   "source": [
    "bdf['type'].unique()"
   ]
  },
  {
   "cell_type": "markdown",
   "id": "4e1b30c5",
   "metadata": {},
   "source": [
    "Type seems to be in reference to road, where the type is what kind of road it is, in this case A or N which is also already conveyed in the road column."
   ]
  },
  {
   "cell_type": "code",
   "execution_count": 106,
   "id": "41890270",
   "metadata": {},
   "outputs": [
    {
     "data": {
      "text/html": [
       "<div>\n",
       "<style scoped>\n",
       "    .dataframe tbody tr th:only-of-type {\n",
       "        vertical-align: middle;\n",
       "    }\n",
       "\n",
       "    .dataframe tbody tr th {\n",
       "        vertical-align: top;\n",
       "    }\n",
       "\n",
       "    .dataframe thead th {\n",
       "        text-align: right;\n",
       "    }\n",
       "</style>\n",
       "<table border=\"1\" class=\"dataframe\">\n",
       "  <thead>\n",
       "    <tr style=\"text-align: right;\">\n",
       "      <th></th>\n",
       "      <th>roadwork_from</th>\n",
       "      <th>roadwork_to</th>\n",
       "      <th>roadwork_label</th>\n",
       "      <th>roadwork_reason</th>\n",
       "      <th>roadwork_start</th>\n",
       "      <th>roadwork_stop</th>\n",
       "    </tr>\n",
       "  </thead>\n",
       "  <tbody>\n",
       "    <tr>\n",
       "      <th>0</th>\n",
       "      <td>afrit Markelo</td>\n",
       "      <td>afrit Markelo</td>\n",
       "      <td>closed</td>\n",
       "      <td>De afrit is dicht. Van 10 september 2021 20:00...</td>\n",
       "      <td>2021-09-10 18:00:00</td>\n",
       "      <td>2021-09-11 04:00:00</td>\n",
       "    </tr>\n",
       "    <tr>\n",
       "      <th>1</th>\n",
       "      <td>Deventer</td>\n",
       "      <td>Deventer</td>\n",
       "      <td>closed</td>\n",
       "      <td>De op- en afrit is dicht. Van 10 september 202...</td>\n",
       "      <td>2021-09-10 19:00:00</td>\n",
       "      <td>2021-09-11 04:00:00</td>\n",
       "    </tr>\n",
       "    <tr>\n",
       "      <th>2</th>\n",
       "      <td>knp. Hoevelaken</td>\n",
       "      <td>Amersfoort-Noord</td>\n",
       "      <td>closed</td>\n",
       "      <td>Dicht. Van 10 september 2021 22:00 uur tot 11 ...</td>\n",
       "      <td>2021-09-10 20:00:00</td>\n",
       "      <td>2021-09-11 05:00:00</td>\n",
       "    </tr>\n",
       "    <tr>\n",
       "      <th>3</th>\n",
       "      <td>afrit Soest</td>\n",
       "      <td>afrit Soest</td>\n",
       "      <td>closed</td>\n",
       "      <td>Oprit dicht. Van 9 september 2021 21:00 uur to...</td>\n",
       "      <td>2021-09-09 19:00:00</td>\n",
       "      <td>2021-09-10 03:00:00</td>\n",
       "    </tr>\n",
       "    <tr>\n",
       "      <th>4</th>\n",
       "      <td>Nieuwegein</td>\n",
       "      <td>Nieuwegein</td>\n",
       "      <td>closed</td>\n",
       "      <td>De afrit is dicht. Van 10 september 2021 22:00...</td>\n",
       "      <td>2021-09-10 20:00:00</td>\n",
       "      <td>2021-09-13 03:00:00</td>\n",
       "    </tr>\n",
       "  </tbody>\n",
       "</table>\n",
       "</div>"
      ],
      "text/plain": [
       "     roadwork_from       roadwork_to roadwork_label  \\\n",
       "0    afrit Markelo     afrit Markelo         closed   \n",
       "1         Deventer          Deventer         closed   \n",
       "2  knp. Hoevelaken  Amersfoort-Noord         closed   \n",
       "3      afrit Soest       afrit Soest         closed   \n",
       "4       Nieuwegein        Nieuwegein         closed   \n",
       "\n",
       "                                     roadwork_reason      roadwork_start  \\\n",
       "0  De afrit is dicht. Van 10 september 2021 20:00... 2021-09-10 18:00:00   \n",
       "1  De op- en afrit is dicht. Van 10 september 202... 2021-09-10 19:00:00   \n",
       "2  Dicht. Van 10 september 2021 22:00 uur tot 11 ... 2021-09-10 20:00:00   \n",
       "3  Oprit dicht. Van 9 september 2021 21:00 uur to... 2021-09-09 19:00:00   \n",
       "4  De afrit is dicht. Van 10 september 2021 22:00... 2021-09-10 20:00:00   \n",
       "\n",
       "        roadwork_stop  \n",
       "0 2021-09-11 04:00:00  \n",
       "1 2021-09-11 04:00:00  \n",
       "2 2021-09-11 05:00:00  \n",
       "3 2021-09-10 03:00:00  \n",
       "4 2021-09-13 03:00:00  "
      ]
     },
     "execution_count": 106,
     "metadata": {},
     "output_type": "execute_result"
    }
   ],
   "source": [
    "sdf[['roadwork_from', 'roadwork_to', 'roadwork_label', 'roadwork_reason', 'roadwork_start', 'roadwork_stop']].head()"
   ]
  },
  {
   "cell_type": "markdown",
   "id": "ef1e6d4a",
   "metadata": {},
   "source": [
    "roadwork_from/to contains locations, these locations however are not standardized using for example mileposts causing deviations.  \n",
    "These features can for this reason not easily be used as good categorical data."
   ]
  },
  {
   "cell_type": "code",
   "execution_count": 107,
   "id": "52a6d2a2",
   "metadata": {},
   "outputs": [
    {
     "data": {
      "text/plain": [
       "array([nan, 'closed', 'accident'], dtype=object)"
      ]
     },
     "execution_count": 107,
     "metadata": {},
     "output_type": "execute_result"
    }
   ],
   "source": [
    "bdf['roadwork_label'].unique()"
   ]
  },
  {
   "cell_type": "markdown",
   "id": "cfe3ab24",
   "metadata": {},
   "source": [
    "roadwork label contains only closed (there are no missing values so there are no NAN's that could be considerd a different category), this feature is useless because it will not convey any new information on a per record basis.  \n",
    "\n",
    "roadwork_reason is a text field that contains custom text.\n",
    "\n",
    "roadwork_start/stop are datetimes, so these columns will have to be datetime dtypes (when reading this dataset using pandas, it automatically made these features datetimes, indicating that there are no incorrect date formats)."
   ]
  },
  {
   "cell_type": "code",
   "execution_count": 108,
   "id": "6afef04a",
   "metadata": {},
   "outputs": [
    {
     "data": {
      "text/plain": [
       "array([0., 1., 2.])"
      ]
     },
     "execution_count": 108,
     "metadata": {},
     "output_type": "execute_result"
    }
   ],
   "source": [
    "bdf['radar_codedirection'].unique()"
   ]
  },
  {
   "cell_type": "markdown",
   "id": "505362b1",
   "metadata": {},
   "source": [
    "radar_codedirection contains 3 unique numbers, we assume that this is categorical however we do not know of what and will have to be looked into further."
   ]
  },
  {
   "cell_type": "code",
   "execution_count": 109,
   "id": "f5b2057e",
   "metadata": {},
   "outputs": [
    {
     "data": {
      "text/html": [
       "<div>\n",
       "<style scoped>\n",
       "    .dataframe tbody tr th:only-of-type {\n",
       "        vertical-align: middle;\n",
       "    }\n",
       "\n",
       "    .dataframe tbody tr th {\n",
       "        vertical-align: top;\n",
       "    }\n",
       "\n",
       "    .dataframe thead th {\n",
       "        text-align: right;\n",
       "    }\n",
       "</style>\n",
       "<table border=\"1\" class=\"dataframe\">\n",
       "  <thead>\n",
       "    <tr style=\"text-align: right;\">\n",
       "      <th></th>\n",
       "      <th>roadwork_fromloc_lat</th>\n",
       "      <th>roadwork_fromloc_lon</th>\n",
       "      <th>roadwork_toloc_lat</th>\n",
       "      <th>roadwork_toloc_lon</th>\n",
       "    </tr>\n",
       "  </thead>\n",
       "  <tbody>\n",
       "    <tr>\n",
       "      <th>0</th>\n",
       "      <td>51.87055</td>\n",
       "      <td>4.33089</td>\n",
       "      <td>51.87055</td>\n",
       "      <td>4.33089</td>\n",
       "    </tr>\n",
       "    <tr>\n",
       "      <th>1</th>\n",
       "      <td>53.20534</td>\n",
       "      <td>6.57403</td>\n",
       "      <td>53.20534</td>\n",
       "      <td>6.57403</td>\n",
       "    </tr>\n",
       "    <tr>\n",
       "      <th>2</th>\n",
       "      <td>52.38177</td>\n",
       "      <td>4.84478</td>\n",
       "      <td>52.37517</td>\n",
       "      <td>4.84282</td>\n",
       "    </tr>\n",
       "    <tr>\n",
       "      <th>3</th>\n",
       "      <td>53.16719</td>\n",
       "      <td>6.80953</td>\n",
       "      <td>53.17849</td>\n",
       "      <td>6.73195</td>\n",
       "    </tr>\n",
       "    <tr>\n",
       "      <th>4</th>\n",
       "      <td>53.18943</td>\n",
       "      <td>5.74664</td>\n",
       "      <td>53.18943</td>\n",
       "      <td>5.74664</td>\n",
       "    </tr>\n",
       "    <tr>\n",
       "      <th>...</th>\n",
       "      <td>...</td>\n",
       "      <td>...</td>\n",
       "      <td>...</td>\n",
       "      <td>...</td>\n",
       "    </tr>\n",
       "    <tr>\n",
       "      <th>7033</th>\n",
       "      <td>52.06560</td>\n",
       "      <td>5.07010</td>\n",
       "      <td>52.05543</td>\n",
       "      <td>5.14474</td>\n",
       "    </tr>\n",
       "    <tr>\n",
       "      <th>7034</th>\n",
       "      <td>51.98190</td>\n",
       "      <td>5.97862</td>\n",
       "      <td>51.98190</td>\n",
       "      <td>5.97862</td>\n",
       "    </tr>\n",
       "    <tr>\n",
       "      <th>7035</th>\n",
       "      <td>52.06139</td>\n",
       "      <td>5.09007</td>\n",
       "      <td>52.06139</td>\n",
       "      <td>5.09007</td>\n",
       "    </tr>\n",
       "    <tr>\n",
       "      <th>7036</th>\n",
       "      <td>51.90808</td>\n",
       "      <td>4.62108</td>\n",
       "      <td>51.90808</td>\n",
       "      <td>4.62108</td>\n",
       "    </tr>\n",
       "    <tr>\n",
       "      <th>7037</th>\n",
       "      <td>52.77436</td>\n",
       "      <td>6.44747</td>\n",
       "      <td>52.77436</td>\n",
       "      <td>6.44747</td>\n",
       "    </tr>\n",
       "  </tbody>\n",
       "</table>\n",
       "<p>7038 rows × 4 columns</p>\n",
       "</div>"
      ],
      "text/plain": [
       "      roadwork_fromloc_lat  roadwork_fromloc_lon  roadwork_toloc_lat  \\\n",
       "0                 51.87055               4.33089            51.87055   \n",
       "1                 53.20534               6.57403            53.20534   \n",
       "2                 52.38177               4.84478            52.37517   \n",
       "3                 53.16719               6.80953            53.17849   \n",
       "4                 53.18943               5.74664            53.18943   \n",
       "...                    ...                   ...                 ...   \n",
       "7033              52.06560               5.07010            52.05543   \n",
       "7034              51.98190               5.97862            51.98190   \n",
       "7035              52.06139               5.09007            52.06139   \n",
       "7036              51.90808               4.62108            51.90808   \n",
       "7037              52.77436               6.44747            52.77436   \n",
       "\n",
       "      roadwork_toloc_lon  \n",
       "0                4.33089  \n",
       "1                6.57403  \n",
       "2                4.84282  \n",
       "3                6.73195  \n",
       "4                5.74664  \n",
       "...                  ...  \n",
       "7033             5.14474  \n",
       "7034             5.97862  \n",
       "7035             5.09007  \n",
       "7036             4.62108  \n",
       "7037             6.44747  \n",
       "\n",
       "[7038 rows x 4 columns]"
      ]
     },
     "execution_count": 109,
     "metadata": {},
     "output_type": "execute_result"
    }
   ],
   "source": [
    "bdf[['roadwork_fromloc_lat', 'roadwork_fromloc_lon', 'roadwork_toloc_lat', 'roadwork_toloc_lon']]"
   ]
  },
  {
   "cell_type": "markdown",
   "id": "ba0027ac",
   "metadata": {},
   "source": [
    "roadwork_\\*loc_\\* holds the longtitude and latitude of the start and endlocation of the roadworks. "
   ]
  },
  {
   "cell_type": "code",
   "execution_count": 110,
   "id": "69117f91",
   "metadata": {},
   "outputs": [
    {
     "data": {
      "text/html": [
       "<div>\n",
       "<style scoped>\n",
       "    .dataframe tbody tr th:only-of-type {\n",
       "        vertical-align: middle;\n",
       "    }\n",
       "\n",
       "    .dataframe tbody tr th {\n",
       "        vertical-align: top;\n",
       "    }\n",
       "\n",
       "    .dataframe thead th {\n",
       "        text-align: right;\n",
       "    }\n",
       "</style>\n",
       "<table border=\"1\" class=\"dataframe\">\n",
       "  <thead>\n",
       "    <tr style=\"text-align: right;\">\n",
       "      <th></th>\n",
       "      <th>roadwork_segmentid</th>\n",
       "      <th>segmentstart</th>\n",
       "      <th>segmentend</th>\n",
       "    </tr>\n",
       "  </thead>\n",
       "  <tbody>\n",
       "    <tr>\n",
       "      <th>0</th>\n",
       "      <td>3059.0</td>\n",
       "      <td>Rotterdam</td>\n",
       "      <td>Europoort</td>\n",
       "    </tr>\n",
       "    <tr>\n",
       "      <th>1</th>\n",
       "      <td>3412.0</td>\n",
       "      <td>Groningen</td>\n",
       "      <td>Duitse grens</td>\n",
       "    </tr>\n",
       "    <tr>\n",
       "      <th>2</th>\n",
       "      <td>3014.0</td>\n",
       "      <td>knp. Coenplein</td>\n",
       "      <td>knp. De Nieuwe Meer</td>\n",
       "    </tr>\n",
       "    <tr>\n",
       "      <th>3</th>\n",
       "      <td>3404.0</td>\n",
       "      <td>Duitse grens</td>\n",
       "      <td>Groningen</td>\n",
       "    </tr>\n",
       "    <tr>\n",
       "      <th>4</th>\n",
       "      <td>3232.0</td>\n",
       "      <td>Drachten</td>\n",
       "      <td>Leeuwarden</td>\n",
       "    </tr>\n",
       "    <tr>\n",
       "      <th>...</th>\n",
       "      <td>...</td>\n",
       "      <td>...</td>\n",
       "      <td>...</td>\n",
       "    </tr>\n",
       "    <tr>\n",
       "      <th>7033</th>\n",
       "      <td>3020.0</td>\n",
       "      <td>Den Haag</td>\n",
       "      <td>Utrecht</td>\n",
       "    </tr>\n",
       "    <tr>\n",
       "      <th>7034</th>\n",
       "      <td>3022.0</td>\n",
       "      <td>Arnhem</td>\n",
       "      <td>Duitse grens</td>\n",
       "    </tr>\n",
       "    <tr>\n",
       "      <th>7035</th>\n",
       "      <td>3020.0</td>\n",
       "      <td>Den Haag</td>\n",
       "      <td>Utrecht</td>\n",
       "    </tr>\n",
       "    <tr>\n",
       "      <th>7036</th>\n",
       "      <td>3600.0</td>\n",
       "      <td>Rotterdam</td>\n",
       "      <td>Schoonhoven</td>\n",
       "    </tr>\n",
       "    <tr>\n",
       "      <th>7037</th>\n",
       "      <td>3197.0</td>\n",
       "      <td>Zwolle</td>\n",
       "      <td>Assen</td>\n",
       "    </tr>\n",
       "  </tbody>\n",
       "</table>\n",
       "<p>7038 rows × 3 columns</p>\n",
       "</div>"
      ],
      "text/plain": [
       "      roadwork_segmentid    segmentstart           segmentend\n",
       "0                 3059.0       Rotterdam            Europoort\n",
       "1                 3412.0       Groningen         Duitse grens\n",
       "2                 3014.0  knp. Coenplein  knp. De Nieuwe Meer\n",
       "3                 3404.0    Duitse grens            Groningen\n",
       "4                 3232.0        Drachten           Leeuwarden\n",
       "...                  ...             ...                  ...\n",
       "7033              3020.0        Den Haag              Utrecht\n",
       "7034              3022.0          Arnhem         Duitse grens\n",
       "7035              3020.0        Den Haag              Utrecht\n",
       "7036              3600.0       Rotterdam          Schoonhoven\n",
       "7037              3197.0          Zwolle                Assen\n",
       "\n",
       "[7038 rows x 3 columns]"
      ]
     },
     "execution_count": 110,
     "metadata": {},
     "output_type": "execute_result"
    }
   ],
   "source": [
    "bdf[['roadwork_segmentid', 'segmentstart', 'segmentend']]"
   ]
  },
  {
   "cell_type": "markdown",
   "id": "4659939c",
   "metadata": {},
   "source": [
    "the segment columns indicate again the main start and endpoints of the roadworks, with the segmentid being an identifier for this segment."
   ]
  },
  {
   "cell_type": "code",
   "execution_count": 111,
   "id": "5318b498",
   "metadata": {},
   "outputs": [
    {
     "data": {
      "text/plain": [
       "array([0., 3., 4.])"
      ]
     },
     "execution_count": 111,
     "metadata": {},
     "output_type": "execute_result"
    }
   ],
   "source": [
    "# bdf[['roadwork_afrc', 'roadwork_category', 'roadwork_type']]\n",
    "bdf['roadwork_afrc'].unique()"
   ]
  },
  {
   "cell_type": "markdown",
   "id": "7f243557",
   "metadata": {},
   "source": [
    "roadwork_afrc contains 3 numerical values, these seem to be categorical but we do not know what it is refering."
   ]
  },
  {
   "cell_type": "code",
   "execution_count": 112,
   "id": "97a4063b",
   "metadata": {},
   "outputs": [
    {
     "data": {
      "text/plain": [
       "array(['roadworks'], dtype=object)"
      ]
     },
     "execution_count": 112,
     "metadata": {},
     "output_type": "execute_result"
    }
   ],
   "source": [
    "bdf['roadwork_category'].unique()"
   ]
  },
  {
   "cell_type": "markdown",
   "id": "366dbd69",
   "metadata": {},
   "source": [
    "roadworks_category only contains the string 'roadworks' this gives no further information and can be ignored."
   ]
  },
  {
   "cell_type": "code",
   "execution_count": 113,
   "id": "6ed64562",
   "metadata": {},
   "outputs": [
    {
     "data": {
      "text/plain": [
       "array(['a', 'n'], dtype=object)"
      ]
     },
     "execution_count": 113,
     "metadata": {},
     "output_type": "execute_result"
    }
   ],
   "source": [
    "bdf['roadwork_type'].unique()"
   ]
  },
  {
   "cell_type": "markdown",
   "id": "425299ef",
   "metadata": {},
   "source": [
    "roadwork_type contains two categorical values: a and n, these could reffer to the two types of main roads: A and N, however this has already been specified and would thus be unnecessary."
   ]
  },
  {
   "cell_type": "markdown",
   "id": "8b2a080a",
   "metadata": {},
   "source": [
    "## Data Analysis"
   ]
  },
  {
   "cell_type": "code",
   "execution_count": 114,
   "id": "4bd66790",
   "metadata": {},
   "outputs": [
    {
     "data": {
      "text/html": [
       "<div>\n",
       "<style scoped>\n",
       "    .dataframe tbody tr th:only-of-type {\n",
       "        vertical-align: middle;\n",
       "    }\n",
       "\n",
       "    .dataframe tbody tr th {\n",
       "        vertical-align: top;\n",
       "    }\n",
       "\n",
       "    .dataframe thead th {\n",
       "        text-align: right;\n",
       "    }\n",
       "</style>\n",
       "<table border=\"1\" class=\"dataframe\">\n",
       "  <thead>\n",
       "    <tr style=\"text-align: right;\">\n",
       "      <th></th>\n",
       "      <th>Unnamed: 0</th>\n",
       "      <th>Unnamed: 0.1</th>\n",
       "      <th>Unnamed: 0.1.1</th>\n",
       "      <th>roadwork_id</th>\n",
       "      <th>radar_codedirection</th>\n",
       "      <th>roadwork_fromloc_lat</th>\n",
       "      <th>roadwork_fromloc_lon</th>\n",
       "      <th>roadwork_toloc_lat</th>\n",
       "      <th>roadwork_toloc_lon</th>\n",
       "      <th>roadwork_segmentid</th>\n",
       "      <th>roadwork_afrc</th>\n",
       "    </tr>\n",
       "  </thead>\n",
       "  <tbody>\n",
       "    <tr>\n",
       "      <th>count</th>\n",
       "      <td>7038.00000</td>\n",
       "      <td>7038.00000</td>\n",
       "      <td>7038.00000</td>\n",
       "      <td>7.038000e+03</td>\n",
       "      <td>7038.000000</td>\n",
       "      <td>7038.000000</td>\n",
       "      <td>7038.000000</td>\n",
       "      <td>7038.000000</td>\n",
       "      <td>7038.000000</td>\n",
       "      <td>7038.000000</td>\n",
       "      <td>7038.000000</td>\n",
       "    </tr>\n",
       "    <tr>\n",
       "      <th>mean</th>\n",
       "      <td>3518.50000</td>\n",
       "      <td>3518.50000</td>\n",
       "      <td>3518.50000</td>\n",
       "      <td>3.810376e+08</td>\n",
       "      <td>0.643080</td>\n",
       "      <td>52.061050</td>\n",
       "      <td>5.190158</td>\n",
       "      <td>52.060915</td>\n",
       "      <td>5.189765</td>\n",
       "      <td>3442.348252</td>\n",
       "      <td>0.506962</td>\n",
       "    </tr>\n",
       "    <tr>\n",
       "      <th>std</th>\n",
       "      <td>2031.83993</td>\n",
       "      <td>2031.83993</td>\n",
       "      <td>2031.83993</td>\n",
       "      <td>5.060466e+08</td>\n",
       "      <td>0.638785</td>\n",
       "      <td>0.536632</td>\n",
       "      <td>0.797205</td>\n",
       "      <td>0.536693</td>\n",
       "      <td>0.797237</td>\n",
       "      <td>873.680288</td>\n",
       "      <td>1.126827</td>\n",
       "    </tr>\n",
       "    <tr>\n",
       "      <th>min</th>\n",
       "      <td>0.00000</td>\n",
       "      <td>0.00000</td>\n",
       "      <td>0.00000</td>\n",
       "      <td>1.724233e+08</td>\n",
       "      <td>0.000000</td>\n",
       "      <td>50.749630</td>\n",
       "      <td>3.544280</td>\n",
       "      <td>50.768900</td>\n",
       "      <td>3.544280</td>\n",
       "      <td>3000.000000</td>\n",
       "      <td>0.000000</td>\n",
       "    </tr>\n",
       "    <tr>\n",
       "      <th>25%</th>\n",
       "      <td>1759.25000</td>\n",
       "      <td>1759.25000</td>\n",
       "      <td>1759.25000</td>\n",
       "      <td>2.578517e+08</td>\n",
       "      <td>0.000000</td>\n",
       "      <td>51.696090</td>\n",
       "      <td>4.610610</td>\n",
       "      <td>51.695440</td>\n",
       "      <td>4.610610</td>\n",
       "      <td>3102.000000</td>\n",
       "      <td>0.000000</td>\n",
       "    </tr>\n",
       "    <tr>\n",
       "      <th>50%</th>\n",
       "      <td>3518.50000</td>\n",
       "      <td>3518.50000</td>\n",
       "      <td>3518.50000</td>\n",
       "      <td>2.676466e+08</td>\n",
       "      <td>1.000000</td>\n",
       "      <td>52.014610</td>\n",
       "      <td>5.033680</td>\n",
       "      <td>52.014610</td>\n",
       "      <td>5.033770</td>\n",
       "      <td>3290.000000</td>\n",
       "      <td>0.000000</td>\n",
       "    </tr>\n",
       "    <tr>\n",
       "      <th>75%</th>\n",
       "      <td>5277.75000</td>\n",
       "      <td>5277.75000</td>\n",
       "      <td>5277.75000</td>\n",
       "      <td>2.859328e+08</td>\n",
       "      <td>1.000000</td>\n",
       "      <td>52.381770</td>\n",
       "      <td>5.812805</td>\n",
       "      <td>52.377580</td>\n",
       "      <td>5.814025</td>\n",
       "      <td>3402.000000</td>\n",
       "      <td>0.000000</td>\n",
       "    </tr>\n",
       "    <tr>\n",
       "      <th>max</th>\n",
       "      <td>7037.00000</td>\n",
       "      <td>7037.00000</td>\n",
       "      <td>7037.00000</td>\n",
       "      <td>3.046233e+09</td>\n",
       "      <td>2.000000</td>\n",
       "      <td>53.435190</td>\n",
       "      <td>7.227650</td>\n",
       "      <td>53.435190</td>\n",
       "      <td>7.227650</td>\n",
       "      <td>22571.000000</td>\n",
       "      <td>4.000000</td>\n",
       "    </tr>\n",
       "  </tbody>\n",
       "</table>\n",
       "</div>"
      ],
      "text/plain": [
       "       Unnamed: 0  Unnamed: 0.1  Unnamed: 0.1.1   roadwork_id  \\\n",
       "count  7038.00000    7038.00000      7038.00000  7.038000e+03   \n",
       "mean   3518.50000    3518.50000      3518.50000  3.810376e+08   \n",
       "std    2031.83993    2031.83993      2031.83993  5.060466e+08   \n",
       "min       0.00000       0.00000         0.00000  1.724233e+08   \n",
       "25%    1759.25000    1759.25000      1759.25000  2.578517e+08   \n",
       "50%    3518.50000    3518.50000      3518.50000  2.676466e+08   \n",
       "75%    5277.75000    5277.75000      5277.75000  2.859328e+08   \n",
       "max    7037.00000    7037.00000      7037.00000  3.046233e+09   \n",
       "\n",
       "       radar_codedirection  roadwork_fromloc_lat  roadwork_fromloc_lon  \\\n",
       "count          7038.000000           7038.000000           7038.000000   \n",
       "mean              0.643080             52.061050              5.190158   \n",
       "std               0.638785              0.536632              0.797205   \n",
       "min               0.000000             50.749630              3.544280   \n",
       "25%               0.000000             51.696090              4.610610   \n",
       "50%               1.000000             52.014610              5.033680   \n",
       "75%               1.000000             52.381770              5.812805   \n",
       "max               2.000000             53.435190              7.227650   \n",
       "\n",
       "       roadwork_toloc_lat  roadwork_toloc_lon  roadwork_segmentid  \\\n",
       "count         7038.000000         7038.000000         7038.000000   \n",
       "mean            52.060915            5.189765         3442.348252   \n",
       "std              0.536693            0.797237          873.680288   \n",
       "min             50.768900            3.544280         3000.000000   \n",
       "25%             51.695440            4.610610         3102.000000   \n",
       "50%             52.014610            5.033770         3290.000000   \n",
       "75%             52.377580            5.814025         3402.000000   \n",
       "max             53.435190            7.227650        22571.000000   \n",
       "\n",
       "       roadwork_afrc  \n",
       "count    7038.000000  \n",
       "mean        0.506962  \n",
       "std         1.126827  \n",
       "min         0.000000  \n",
       "25%         0.000000  \n",
       "50%         0.000000  \n",
       "75%         0.000000  \n",
       "max         4.000000  "
      ]
     },
     "execution_count": 114,
     "metadata": {},
     "output_type": "execute_result"
    }
   ],
   "source": [
    "bdf.describe()"
   ]
  },
  {
   "cell_type": "markdown",
   "id": "9b0a0c27",
   "metadata": {},
   "source": [
    "The numerical values described above, seem to all not actually be numerical values that can be used as such. For example the roadwork_loc columns contain latitude and longtitude values that are linked to a location within the Netherlands, specifically roadpoints."
   ]
  },
  {
   "cell_type": "code",
   "execution_count": 115,
   "id": "4d29ff7e",
   "metadata": {
    "scrolled": true
   },
   "outputs": [
    {
     "name": "stdout",
     "output_type": "stream",
     "text": [
      "Column None has changing values: \u001b[1m False\u001b[0m\n",
      "Column None has changing values: \u001b[1m False\u001b[0m\n"
     ]
    }
   ],
   "source": [
    "changedRowsCols = bdf.columns[2:6].tolist() + bdf.columns[7:,].tolist()\n",
    "# Get random indexer to test the check on\n",
    "changedRowsIndex = bdf.sample(random_state=0)['roadwork_id'].values[0]\n",
    "#                             ^Remove random_state to get a truely new random sample\n",
    "changedRowsMask = bdf[bdf['roadwork_id'] == changedRowsIndex][changedRowsCols].shift() != bdf[bdf['roadwork_id'] == changedRowsIndex][changedRowsCols]\n",
    "\n",
    "def CheckMask(col):\n",
    "    print(f\"Column {col.name} has changing values: \\033[1m {True in col}\\033[0m\")\n",
    "    \n",
    "changedRowsMask.loc[changedRowsMask.index[1:,]].apply(func=CheckMask);\n",
    "#               ^Skip first entry because this will always be marked as true\n"
   ]
  },
  {
   "cell_type": "markdown",
   "id": "68f98b6b",
   "metadata": {},
   "source": [
    "*Note: This test has a bug where it will sometimes also read an empty row, causing the changed status to become True for all columns*  \n",
    "From the check above it can be seen that when randomly sampling a roadwork_id, and checking all records referencing this Id, the values stay the same. This proves our original theory that the identical roadwork_id's are caused by the gathering method of JUGO who fetch the same record multiple times.\n",
    "(roadwork_reason does change sometimes however, but this can be dealt with by sorting on loaddatetimeutc and using the newest roadwork_reason)\n",
    "\n",
    "This means that the identical records can be removed/merged into one record for the given roadwork_id"
   ]
  },
  {
   "cell_type": "code",
   "execution_count": 116,
   "id": "aaa4e23f",
   "metadata": {},
   "outputs": [
    {
     "name": "stdout",
     "output_type": "stream",
     "text": [
      "Is roadwork_id unique: \u001b[1m True\u001b[0m\n"
     ]
    }
   ],
   "source": [
    "df = bdf.sort_values('loaddatetimeutc').drop_duplicates(subset='roadwork_id', keep='last')\n",
    "print(f\"Is roadwork_id unique: \\033[1m {df['roadwork_id'].is_unique}\\033[0m\")"
   ]
  },
  {
   "cell_type": "code",
   "execution_count": 117,
   "id": "9a088d4e",
   "metadata": {},
   "outputs": [
    {
     "name": "stdout",
     "output_type": "stream",
     "text": [
      "<class 'pandas.core.frame.DataFrame'>\n",
      "Int64Index: 7038 entries, 0 to 7037\n",
      "Data columns (total 24 columns):\n",
      " #   Column                Non-Null Count  Dtype         \n",
      "---  ------                --------------  -----         \n",
      " 0   Unnamed: 0            7038 non-null   int64         \n",
      " 1   Unnamed: 0.1          7038 non-null   int64         \n",
      " 2   Unnamed: 0.1.1        7038 non-null   int64         \n",
      " 3   roadwork_id           7038 non-null   float64       \n",
      " 4   loaddatetimeutc       7038 non-null   datetime64[ns]\n",
      " 5   road                  7038 non-null   object        \n",
      " 6   type                  7038 non-null   object        \n",
      " 7   roadwork_from         7038 non-null   object        \n",
      " 8   roadwork_to           7038 non-null   object        \n",
      " 9   roadwork_label        6729 non-null   object        \n",
      " 10  roadwork_reason       7038 non-null   object        \n",
      " 11  roadwork_start        7038 non-null   datetime64[ns]\n",
      " 12  roadwork_stop         7038 non-null   datetime64[ns]\n",
      " 13  radar_codedirection   7038 non-null   float64       \n",
      " 14  roadwork_fromloc_lat  7038 non-null   float64       \n",
      " 15  roadwork_fromloc_lon  7038 non-null   float64       \n",
      " 16  roadwork_toloc_lat    7038 non-null   float64       \n",
      " 17  roadwork_toloc_lon    7038 non-null   float64       \n",
      " 18  roadwork_segmentid    7038 non-null   float64       \n",
      " 19  segmentstart          7038 non-null   object        \n",
      " 20  segmentend            7038 non-null   object        \n",
      " 21  roadwork_afrc         7038 non-null   float64       \n",
      " 22  roadwork_category     7038 non-null   object        \n",
      " 23  roadwork_type         7038 non-null   object        \n",
      "dtypes: datetime64[ns](3), float64(8), int64(3), object(10)\n",
      "memory usage: 1.3+ MB\n"
     ]
    }
   ],
   "source": [
    "df.info()"
   ]
  },
  {
   "cell_type": "markdown",
   "id": "21e9db48",
   "metadata": {},
   "source": [
    "The indexing has gone wrong while reading all the parquet files. Which probably caused the indexing to be wrong."
   ]
  },
  {
   "cell_type": "code",
   "execution_count": 118,
   "id": "7e951b75",
   "metadata": {},
   "outputs": [
    {
     "data": {
      "text/plain": [
       "Unnamed: 0                         100\n",
       "Unnamed: 0.1                       100\n",
       "Unnamed: 0.1.1                     100\n",
       "roadwork_id                245634823.0\n",
       "loaddatetimeutc    2020-07-19 06:59:00\n",
       "Name: 100, dtype: object"
      ]
     },
     "execution_count": 118,
     "metadata": {},
     "output_type": "execute_result"
    }
   ],
   "source": [
    "df.loc[100,:].head(5)\n",
    "# findings that there are duplicate index rows"
   ]
  },
  {
   "cell_type": "markdown",
   "id": "9f1d4b78",
   "metadata": {},
   "source": [
    "Resetting the index to fix the duplicates and order"
   ]
  },
  {
   "cell_type": "code",
   "execution_count": 119,
   "id": "caf70405",
   "metadata": {},
   "outputs": [],
   "source": [
    "df=df.reset_index(drop=True)"
   ]
  },
  {
   "cell_type": "code",
   "execution_count": 120,
   "id": "c3447c45",
   "metadata": {},
   "outputs": [
    {
     "name": "stdout",
     "output_type": "stream",
     "text": [
      "<class 'pandas.core.frame.DataFrame'>\n",
      "RangeIndex: 7038 entries, 0 to 7037\n",
      "Data columns (total 24 columns):\n",
      " #   Column                Non-Null Count  Dtype         \n",
      "---  ------                --------------  -----         \n",
      " 0   Unnamed: 0            7038 non-null   int64         \n",
      " 1   Unnamed: 0.1          7038 non-null   int64         \n",
      " 2   Unnamed: 0.1.1        7038 non-null   int64         \n",
      " 3   roadwork_id           7038 non-null   float64       \n",
      " 4   loaddatetimeutc       7038 non-null   datetime64[ns]\n",
      " 5   road                  7038 non-null   object        \n",
      " 6   type                  7038 non-null   object        \n",
      " 7   roadwork_from         7038 non-null   object        \n",
      " 8   roadwork_to           7038 non-null   object        \n",
      " 9   roadwork_label        6729 non-null   object        \n",
      " 10  roadwork_reason       7038 non-null   object        \n",
      " 11  roadwork_start        7038 non-null   datetime64[ns]\n",
      " 12  roadwork_stop         7038 non-null   datetime64[ns]\n",
      " 13  radar_codedirection   7038 non-null   float64       \n",
      " 14  roadwork_fromloc_lat  7038 non-null   float64       \n",
      " 15  roadwork_fromloc_lon  7038 non-null   float64       \n",
      " 16  roadwork_toloc_lat    7038 non-null   float64       \n",
      " 17  roadwork_toloc_lon    7038 non-null   float64       \n",
      " 18  roadwork_segmentid    7038 non-null   float64       \n",
      " 19  segmentstart          7038 non-null   object        \n",
      " 20  segmentend            7038 non-null   object        \n",
      " 21  roadwork_afrc         7038 non-null   float64       \n",
      " 22  roadwork_category     7038 non-null   object        \n",
      " 23  roadwork_type         7038 non-null   object        \n",
      "dtypes: datetime64[ns](3), float64(8), int64(3), object(10)\n",
      "memory usage: 1.3+ MB\n"
     ]
    }
   ],
   "source": [
    "df.info()"
   ]
  },
  {
   "cell_type": "markdown",
   "id": "4c182728",
   "metadata": {},
   "source": [
    "Checking for null values"
   ]
  },
  {
   "cell_type": "code",
   "execution_count": 121,
   "id": "ee28e658",
   "metadata": {},
   "outputs": [
    {
     "data": {
      "text/plain": [
       "Unnamed: 0                0\n",
       "Unnamed: 0.1              0\n",
       "Unnamed: 0.1.1            0\n",
       "roadwork_id               0\n",
       "loaddatetimeutc           0\n",
       "road                      0\n",
       "type                      0\n",
       "roadwork_from             0\n",
       "roadwork_to               0\n",
       "roadwork_label          309\n",
       "roadwork_reason           0\n",
       "roadwork_start            0\n",
       "roadwork_stop             0\n",
       "radar_codedirection       0\n",
       "roadwork_fromloc_lat      0\n",
       "roadwork_fromloc_lon      0\n",
       "roadwork_toloc_lat        0\n",
       "roadwork_toloc_lon        0\n",
       "roadwork_segmentid        0\n",
       "segmentstart              0\n",
       "segmentend                0\n",
       "roadwork_afrc             0\n",
       "roadwork_category         0\n",
       "roadwork_type             0\n",
       "dtype: int64"
      ]
     },
     "execution_count": 121,
     "metadata": {},
     "output_type": "execute_result"
    }
   ],
   "source": [
    "df.isnull().sum()"
   ]
  },
  {
   "cell_type": "markdown",
   "id": "8b6aecaa",
   "metadata": {},
   "source": [
    "There were really few rows with null values, if we dont count the roadwork_label missing values. But it doesn't matter, since the data is just an explanation of the roadworks. We don't need to know what is being worked on, we just need to know the road and duration it's being worked on\n"
   ]
  },
  {
   "cell_type": "markdown",
   "id": "e840c19a",
   "metadata": {},
   "source": [
    "Checking if the A or N roads have more roadworks"
   ]
  },
  {
   "cell_type": "code",
   "execution_count": 122,
   "id": "13cf40fd",
   "metadata": {},
   "outputs": [
    {
     "data": {
      "text/plain": [
       "<AxesSubplot:xlabel='type', ylabel='Count'>"
      ]
     },
     "execution_count": 122,
     "metadata": {},
     "output_type": "execute_result"
    },
    {
     "data": {
      "image/png": "[encoded data removed]",
      "text/plain": [
       "<Figure size 432x288 with 1 Axes>"
      ]
     },
     "metadata": {
      "needs_background": "light"
     },
     "output_type": "display_data"
    }
   ],
   "source": [
    "sns.histplot(df['type'])"
   ]
  },
  {
   "cell_type": "markdown",
   "id": "3dd32756",
   "metadata": {},
   "source": [
    "Plotting the data in a histogram to get a better view of how much roadworks each road has."
   ]
  },
  {
   "cell_type": "code",
   "execution_count": 123,
   "id": "a3c859cb",
   "metadata": {
    "scrolled": false
   },
   "outputs": [
    {
     "data": {
      "text/plain": [
       "<matplotlib.lines.Line2D at 0x27c04ca7250>"
      ]
     },
     "execution_count": 123,
     "metadata": {},
     "output_type": "execute_result"
    },
    {
     "data": {
      "image/png": "[encoded data removed]",
      "text/plain": [
       "<Figure size 1080x3600 with 1 Axes>"
      ]
     },
     "metadata": {
      "needs_background": "light"
     },
     "output_type": "display_data"
    }
   ],
   "source": [
    "plt.figure(figsize = (15,50))\n",
    "hisroads = sns.histplot(y=df['road'].sort_values(ascending=True), color='g', shrink=.69, binwidth =50)\n",
    "plt.axvline(10, color='red')"
   ]
  },
  {
   "cell_type": "markdown",
   "id": "320db02b",
   "metadata": {},
   "source": [
    "Some road's don't have enough data, so we can't train the model. This causes us to not be able to predict the future using Time Series Prediction."
   ]
  },
  {
   "cell_type": "code",
   "execution_count": 124,
   "id": "6df99463",
   "metadata": {},
   "outputs": [
    {
     "name": "stdout",
     "output_type": "stream",
     "text": [
      "<class 'pandas.core.frame.DataFrame'>\n",
      "RangeIndex: 7038 entries, 0 to 7037\n",
      "Data columns (total 24 columns):\n",
      " #   Column                Non-Null Count  Dtype         \n",
      "---  ------                --------------  -----         \n",
      " 0   Unnamed: 0            7038 non-null   int64         \n",
      " 1   Unnamed: 0.1          7038 non-null   int64         \n",
      " 2   Unnamed: 0.1.1        7038 non-null   int64         \n",
      " 3   roadwork_id           7038 non-null   float64       \n",
      " 4   loaddatetimeutc       7038 non-null   datetime64[ns]\n",
      " 5   road                  7038 non-null   object        \n",
      " 6   type                  7038 non-null   object        \n",
      " 7   roadwork_from         7038 non-null   object        \n",
      " 8   roadwork_to           7038 non-null   object        \n",
      " 9   roadwork_label        6729 non-null   object        \n",
      " 10  roadwork_reason       7038 non-null   object        \n",
      " 11  roadwork_start        7038 non-null   datetime64[ns]\n",
      " 12  roadwork_stop         7038 non-null   datetime64[ns]\n",
      " 13  radar_codedirection   7038 non-null   float64       \n",
      " 14  roadwork_fromloc_lat  7038 non-null   float64       \n",
      " 15  roadwork_fromloc_lon  7038 non-null   float64       \n",
      " 16  roadwork_toloc_lat    7038 non-null   float64       \n",
      " 17  roadwork_toloc_lon    7038 non-null   float64       \n",
      " 18  roadwork_segmentid    7038 non-null   float64       \n",
      " 19  segmentstart          7038 non-null   object        \n",
      " 20  segmentend            7038 non-null   object        \n",
      " 21  roadwork_afrc         7038 non-null   float64       \n",
      " 22  roadwork_category     7038 non-null   object        \n",
      " 23  roadwork_type         7038 non-null   object        \n",
      "dtypes: datetime64[ns](3), float64(8), int64(3), object(10)\n",
      "memory usage: 1.3+ MB\n"
     ]
    }
   ],
   "source": [
    "df=bdf.copy()\n",
    "df.info()"
   ]
  },
  {
   "cell_type": "markdown",
   "id": "498747bd",
   "metadata": {},
   "source": [
    "As you can see in the histogram below. There's very little data before 2020"
   ]
  },
  {
   "cell_type": "code",
   "execution_count": 125,
   "id": "cd068145",
   "metadata": {},
   "outputs": [
    {
     "data": {
      "image/png": "[encoded data removed]",
      "text/plain": [
       "<Figure size 720x432 with 1 Axes>"
      ]
     },
     "metadata": {
      "needs_background": "light"
     },
     "output_type": "display_data"
    }
   ],
   "source": [
    "plt.figure(figsize = (10,6))\n",
    "s = sns.histplot(df['roadwork_start']\n",
    "                 #.dt.strftime(\"%b\")\n",
    "                )\n"
   ]
  },
  {
   "cell_type": "markdown",
   "id": "a8975736",
   "metadata": {},
   "source": [
    "The months September and October are the months with the most roadworks"
   ]
  },
  {
   "cell_type": "code",
   "execution_count": 126,
   "id": "ed0435bf",
   "metadata": {},
   "outputs": [
    {
     "data": {
      "image/png": "[encoded data removed]",
      "text/plain": [
       "<Figure size 1080x360 with 1 Axes>"
      ]
     },
     "metadata": {
      "needs_background": "light"
     },
     "output_type": "display_data"
    }
   ],
   "source": [
    "plt.figure(figsize = (15,5))\n",
    "s = sns.histplot(df['roadwork_start'].dt.month, bins=np.arange(1, 13 +1), kde=True)\n",
    "s.set(xticks=[1,2,3,4,5,6,7,8,9,10,11,12]);\n",
    "# [\"Jan\",\"Feb\",\"Mar\",\"Apr\",\"May\",\"Jun\",\"Jul\",\"Aug\",\"Sep\",\"Oct\",\"Nov\",\"Dec\"]"
   ]
  },
  {
   "cell_type": "markdown",
   "id": "09ce91c7",
   "metadata": {},
   "source": [
    "# Data preparation"
   ]
  },
  {
   "cell_type": "code",
   "execution_count": 127,
   "id": "2bc8d1b0",
   "metadata": {},
   "outputs": [
    {
     "data": {
      "text/html": [
       "<div>\n",
       "<style scoped>\n",
       "    .dataframe tbody tr th:only-of-type {\n",
       "        vertical-align: middle;\n",
       "    }\n",
       "\n",
       "    .dataframe tbody tr th {\n",
       "        vertical-align: top;\n",
       "    }\n",
       "\n",
       "    .dataframe thead th {\n",
       "        text-align: right;\n",
       "    }\n",
       "</style>\n",
       "<table border=\"1\" class=\"dataframe\">\n",
       "  <thead>\n",
       "    <tr style=\"text-align: right;\">\n",
       "      <th></th>\n",
       "      <th>Unnamed: 0</th>\n",
       "      <th>Unnamed: 0.1</th>\n",
       "      <th>Unnamed: 0.1.1</th>\n",
       "      <th>roadwork_id</th>\n",
       "      <th>loaddatetimeutc</th>\n",
       "      <th>road</th>\n",
       "      <th>type</th>\n",
       "      <th>roadwork_from</th>\n",
       "      <th>roadwork_to</th>\n",
       "      <th>roadwork_label</th>\n",
       "      <th>roadwork_reason</th>\n",
       "      <th>roadwork_start</th>\n",
       "      <th>roadwork_stop</th>\n",
       "      <th>radar_codedirection</th>\n",
       "      <th>roadwork_fromloc_lat</th>\n",
       "      <th>roadwork_fromloc_lon</th>\n",
       "      <th>roadwork_toloc_lat</th>\n",
       "      <th>roadwork_toloc_lon</th>\n",
       "      <th>roadwork_segmentid</th>\n",
       "      <th>segmentstart</th>\n",
       "      <th>segmentend</th>\n",
       "      <th>roadwork_afrc</th>\n",
       "      <th>roadwork_category</th>\n",
       "      <th>roadwork_type</th>\n",
       "    </tr>\n",
       "  </thead>\n",
       "  <tbody>\n",
       "    <tr>\n",
       "      <th>7035</th>\n",
       "      <td>7035</td>\n",
       "      <td>7035</td>\n",
       "      <td>7009</td>\n",
       "      <td>305481416.0</td>\n",
       "      <td>2022-02-23 18:00:00</td>\n",
       "      <td>A12</td>\n",
       "      <td>a</td>\n",
       "      <td>Nieuwegein</td>\n",
       "      <td>Nieuwegein</td>\n",
       "      <td>closed</td>\n",
       "      <td>De afrit is dicht. Van 23 februari 2022 20:00 ...</td>\n",
       "      <td>2022-02-23 19:00:00</td>\n",
       "      <td>2022-02-24 04:00:00</td>\n",
       "      <td>1.0</td>\n",
       "      <td>52.06139</td>\n",
       "      <td>5.09007</td>\n",
       "      <td>52.06139</td>\n",
       "      <td>5.09007</td>\n",
       "      <td>3020.0</td>\n",
       "      <td>Den Haag</td>\n",
       "      <td>Utrecht</td>\n",
       "      <td>0.0</td>\n",
       "      <td>roadworks</td>\n",
       "      <td>a</td>\n",
       "    </tr>\n",
       "    <tr>\n",
       "      <th>7036</th>\n",
       "      <td>7036</td>\n",
       "      <td>7036</td>\n",
       "      <td>7022</td>\n",
       "      <td>266078847.0</td>\n",
       "      <td>2022-02-23 18:00:00</td>\n",
       "      <td>N210</td>\n",
       "      <td>n</td>\n",
       "      <td>Krimpen a/d IJssel</td>\n",
       "      <td>Krimpen a/d IJssel</td>\n",
       "      <td>NaN</td>\n",
       "      <td>Wegwerkzaamheden. Van 15 maart 2021 06:00 uur ...</td>\n",
       "      <td>2021-03-15 05:00:00</td>\n",
       "      <td>2022-12-31 05:00:00</td>\n",
       "      <td>2.0</td>\n",
       "      <td>51.90808</td>\n",
       "      <td>4.62108</td>\n",
       "      <td>51.90808</td>\n",
       "      <td>4.62108</td>\n",
       "      <td>3600.0</td>\n",
       "      <td>Rotterdam</td>\n",
       "      <td>Schoonhoven</td>\n",
       "      <td>3.0</td>\n",
       "      <td>roadworks</td>\n",
       "      <td>n</td>\n",
       "    </tr>\n",
       "    <tr>\n",
       "      <th>7037</th>\n",
       "      <td>7037</td>\n",
       "      <td>7037</td>\n",
       "      <td>7037</td>\n",
       "      <td>305483163.0</td>\n",
       "      <td>2022-02-23 18:00:00</td>\n",
       "      <td>A28</td>\n",
       "      <td>a</td>\n",
       "      <td>afrit Ruinen</td>\n",
       "      <td>afrit Ruinen</td>\n",
       "      <td>closed</td>\n",
       "      <td>De oprit is dicht. Van 24 februari 2022 20:00 ...</td>\n",
       "      <td>2022-02-24 19:00:00</td>\n",
       "      <td>2022-02-25 04:00:00</td>\n",
       "      <td>1.0</td>\n",
       "      <td>52.77436</td>\n",
       "      <td>6.44747</td>\n",
       "      <td>52.77436</td>\n",
       "      <td>6.44747</td>\n",
       "      <td>3197.0</td>\n",
       "      <td>Zwolle</td>\n",
       "      <td>Assen</td>\n",
       "      <td>0.0</td>\n",
       "      <td>roadworks</td>\n",
       "      <td>a</td>\n",
       "    </tr>\n",
       "  </tbody>\n",
       "</table>\n",
       "</div>"
      ],
      "text/plain": [
       "      Unnamed: 0  Unnamed: 0.1  Unnamed: 0.1.1  roadwork_id  \\\n",
       "7035        7035          7035            7009  305481416.0   \n",
       "7036        7036          7036            7022  266078847.0   \n",
       "7037        7037          7037            7037  305483163.0   \n",
       "\n",
       "         loaddatetimeutc  road type       roadwork_from         roadwork_to  \\\n",
       "7035 2022-02-23 18:00:00   A12    a          Nieuwegein          Nieuwegein   \n",
       "7036 2022-02-23 18:00:00  N210    n  Krimpen a/d IJssel  Krimpen a/d IJssel   \n",
       "7037 2022-02-23 18:00:00   A28    a        afrit Ruinen        afrit Ruinen   \n",
       "\n",
       "     roadwork_label                                    roadwork_reason  \\\n",
       "7035         closed  De afrit is dicht. Van 23 februari 2022 20:00 ...   \n",
       "7036            NaN  Wegwerkzaamheden. Van 15 maart 2021 06:00 uur ...   \n",
       "7037         closed  De oprit is dicht. Van 24 februari 2022 20:00 ...   \n",
       "\n",
       "          roadwork_start       roadwork_stop  radar_codedirection  \\\n",
       "7035 2022-02-23 19:00:00 2022-02-24 04:00:00                  1.0   \n",
       "7036 2021-03-15 05:00:00 2022-12-31 05:00:00                  2.0   \n",
       "7037 2022-02-24 19:00:00 2022-02-25 04:00:00                  1.0   \n",
       "\n",
       "      roadwork_fromloc_lat  roadwork_fromloc_lon  roadwork_toloc_lat  \\\n",
       "7035              52.06139               5.09007            52.06139   \n",
       "7036              51.90808               4.62108            51.90808   \n",
       "7037              52.77436               6.44747            52.77436   \n",
       "\n",
       "      roadwork_toloc_lon  roadwork_segmentid segmentstart   segmentend  \\\n",
       "7035             5.09007              3020.0     Den Haag      Utrecht   \n",
       "7036             4.62108              3600.0    Rotterdam  Schoonhoven   \n",
       "7037             6.44747              3197.0       Zwolle        Assen   \n",
       "\n",
       "      roadwork_afrc roadwork_category roadwork_type  \n",
       "7035            0.0         roadworks             a  \n",
       "7036            3.0         roadworks             n  \n",
       "7037            0.0         roadworks             a  "
      ]
     },
     "execution_count": 127,
     "metadata": {},
     "output_type": "execute_result"
    }
   ],
   "source": [
    "df.tail(3)"
   ]
  },
  {
   "cell_type": "markdown",
   "id": "0084c6fa",
   "metadata": {},
   "source": [
    "We're removing the last row since it's null for some reason"
   ]
  },
  {
   "cell_type": "code",
   "execution_count": 128,
   "id": "3820e27b",
   "metadata": {},
   "outputs": [],
   "source": [
    "df = df.loc[:7037]"
   ]
  },
  {
   "cell_type": "code",
   "execution_count": 132,
   "id": "0227a8ee",
   "metadata": {},
   "outputs": [],
   "source": [
    "df.to_csv('mergedroadworks.csv')"
   ]
  },
  {
   "cell_type": "markdown",
   "id": "66a2db49",
   "metadata": {},
   "source": [
    "Saving the merged parquets to CSV for future use since it'll be less of a headache to run the whole notebook."
   ]
  },
  {
   "cell_type": "code",
   "execution_count": 129,
   "id": "891611d1",
   "metadata": {},
   "outputs": [
    {
     "data": {
      "text/html": [
       "<div>\n",
       "<style scoped>\n",
       "    .dataframe tbody tr th:only-of-type {\n",
       "        vertical-align: middle;\n",
       "    }\n",
       "\n",
       "    .dataframe tbody tr th {\n",
       "        vertical-align: top;\n",
       "    }\n",
       "\n",
       "    .dataframe thead th {\n",
       "        text-align: right;\n",
       "    }\n",
       "</style>\n",
       "<table border=\"1\" class=\"dataframe\">\n",
       "  <thead>\n",
       "    <tr style=\"text-align: right;\">\n",
       "      <th></th>\n",
       "      <th>Unnamed: 0</th>\n",
       "      <th>Unnamed: 0.1</th>\n",
       "      <th>Unnamed: 0.1.1</th>\n",
       "      <th>roadwork_id</th>\n",
       "      <th>loaddatetimeutc</th>\n",
       "      <th>road</th>\n",
       "      <th>type</th>\n",
       "      <th>roadwork_from</th>\n",
       "      <th>roadwork_to</th>\n",
       "      <th>roadwork_label</th>\n",
       "      <th>roadwork_reason</th>\n",
       "      <th>roadwork_start</th>\n",
       "      <th>roadwork_stop</th>\n",
       "      <th>radar_codedirection</th>\n",
       "      <th>roadwork_fromloc_lat</th>\n",
       "      <th>roadwork_fromloc_lon</th>\n",
       "      <th>roadwork_toloc_lat</th>\n",
       "      <th>roadwork_toloc_lon</th>\n",
       "      <th>roadwork_segmentid</th>\n",
       "      <th>segmentstart</th>\n",
       "      <th>segmentend</th>\n",
       "      <th>roadwork_afrc</th>\n",
       "      <th>roadwork_category</th>\n",
       "      <th>roadwork_type</th>\n",
       "    </tr>\n",
       "  </thead>\n",
       "  <tbody>\n",
       "  </tbody>\n",
       "</table>\n",
       "</div>"
      ],
      "text/plain": [
       "Empty DataFrame\n",
       "Columns: [Unnamed: 0, Unnamed: 0.1, Unnamed: 0.1.1, roadwork_id, loaddatetimeutc, road, type, roadwork_from, roadwork_to, roadwork_label, roadwork_reason, roadwork_start, roadwork_stop, radar_codedirection, roadwork_fromloc_lat, roadwork_fromloc_lon, roadwork_toloc_lat, roadwork_toloc_lon, roadwork_segmentid, segmentstart, segmentend, roadwork_afrc, roadwork_category, roadwork_type]\n",
       "Index: []"
      ]
     },
     "execution_count": 129,
     "metadata": {},
     "output_type": "execute_result"
    }
   ],
   "source": [
    "df[df['segmentend'].isnull()]"
   ]
  },
  {
   "cell_type": "markdown",
   "id": "ae50232f",
   "metadata": {},
   "source": [
    "We've concluded that this row was probably kept empty, since they were working on a roundabout. This is the best assumption to make since every other row is filled and this is the only point that is near a roundabout."
   ]
  },
  {
   "cell_type": "code",
   "execution_count": 130,
   "id": "e09fa9ba",
   "metadata": {},
   "outputs": [],
   "source": [
    "df.loc[2917,['roadwork_toloc_lat', 'roadwork_toloc_lon', 'segmentstart', 'segmentend']] = [df.loc[2917]['roadwork_fromloc_lat'], df.loc[2917]['roadwork_fromloc_lon'], 'Dronten', 'Dronten']"
   ]
  },
  {
   "cell_type": "markdown",
   "id": "2055cc71",
   "metadata": {},
   "source": [
    "As stated above the missing value is for a roundabout. Which means we can just fill in the same longitude and latitude in the segmentstart and end. Other than that we've filled in the placename with the corresponding lat and lon information we've being given."
   ]
  },
  {
   "cell_type": "code",
   "execution_count": 131,
   "id": "c6cfdc93",
   "metadata": {},
   "outputs": [
    {
     "data": {
      "text/plain": [
       "Unnamed: 0                                                           2917\n",
       "Unnamed: 0.1                                                         2917\n",
       "Unnamed: 0.1.1                                                       2917\n",
       "roadwork_id                                                   261630311.0\n",
       "loaddatetimeutc                                       2021-02-25 07:59:00\n",
       "road                                                                 N307\n",
       "type                                                                    n\n",
       "roadwork_from                                  de aansluiting met de N305\n",
       "roadwork_to                                    de aansluiting met de N305\n",
       "roadwork_label                                                        NaN\n",
       "roadwork_reason         Wegwerkzaamheden. Van 5 februari 2021 09:00 uu...\n",
       "roadwork_start                                        2021-02-05 08:00:00\n",
       "roadwork_stop                                         2021-02-28 08:00:00\n",
       "radar_codedirection                                                   1.0\n",
       "roadwork_fromloc_lat                                             52.53778\n",
       "roadwork_fromloc_lon                                              5.73967\n",
       "roadwork_toloc_lat                                               52.53778\n",
       "roadwork_toloc_lon                                                5.73967\n",
       "roadwork_segmentid                                                22571.0\n",
       "segmentstart                                                      Dronten\n",
       "segmentend                                                        Dronten\n",
       "roadwork_afrc                                                         3.0\n",
       "roadwork_category                                               roadworks\n",
       "roadwork_type                                                           n\n",
       "Name: 2917, dtype: object"
      ]
     },
     "execution_count": 131,
     "metadata": {},
     "output_type": "execute_result"
    }
   ],
   "source": [
    "df.loc[2917]"
   ]
  },
  {
   "cell_type": "markdown",
   "id": "bd394734",
   "metadata": {},
   "source": [
    "Making sure that we've updated the information correctly in the 2917th row."
   ]
  },
  {
   "cell_type": "code",
   "execution_count": 303,
   "id": "27e466da",
   "metadata": {},
   "outputs": [
    {
     "data": {
      "text/html": [
       "<div>\n",
       "<style scoped>\n",
       "    .dataframe tbody tr th:only-of-type {\n",
       "        vertical-align: middle;\n",
       "    }\n",
       "\n",
       "    .dataframe tbody tr th {\n",
       "        vertical-align: top;\n",
       "    }\n",
       "\n",
       "    .dataframe thead th {\n",
       "        text-align: right;\n",
       "    }\n",
       "</style>\n",
       "<table border=\"1\" class=\"dataframe\">\n",
       "  <thead>\n",
       "    <tr style=\"text-align: right;\">\n",
       "      <th></th>\n",
       "      <th>date</th>\n",
       "      <th>roadworks</th>\n",
       "      <th>weekday</th>\n",
       "    </tr>\n",
       "    <tr>\n",
       "      <th>date</th>\n",
       "      <th></th>\n",
       "      <th></th>\n",
       "      <th></th>\n",
       "    </tr>\n",
       "  </thead>\n",
       "  <tbody>\n",
       "    <tr>\n",
       "      <th>2020-07-13</th>\n",
       "      <td>2020-07-13</td>\n",
       "      <td>0</td>\n",
       "      <td>0</td>\n",
       "    </tr>\n",
       "    <tr>\n",
       "      <th>2020-07-14</th>\n",
       "      <td>2020-07-14</td>\n",
       "      <td>0</td>\n",
       "      <td>1</td>\n",
       "    </tr>\n",
       "    <tr>\n",
       "      <th>2020-07-15</th>\n",
       "      <td>2020-07-15</td>\n",
       "      <td>0</td>\n",
       "      <td>2</td>\n",
       "    </tr>\n",
       "    <tr>\n",
       "      <th>2020-07-16</th>\n",
       "      <td>2020-07-16</td>\n",
       "      <td>0</td>\n",
       "      <td>3</td>\n",
       "    </tr>\n",
       "    <tr>\n",
       "      <th>2020-07-17</th>\n",
       "      <td>2020-07-17</td>\n",
       "      <td>0</td>\n",
       "      <td>4</td>\n",
       "    </tr>\n",
       "    <tr>\n",
       "      <th>...</th>\n",
       "      <td>...</td>\n",
       "      <td>...</td>\n",
       "      <td>...</td>\n",
       "    </tr>\n",
       "    <tr>\n",
       "      <th>2022-02-19</th>\n",
       "      <td>2022-02-19</td>\n",
       "      <td>0</td>\n",
       "      <td>5</td>\n",
       "    </tr>\n",
       "    <tr>\n",
       "      <th>2022-02-20</th>\n",
       "      <td>2022-02-20</td>\n",
       "      <td>0</td>\n",
       "      <td>6</td>\n",
       "    </tr>\n",
       "    <tr>\n",
       "      <th>2022-02-21</th>\n",
       "      <td>2022-02-21</td>\n",
       "      <td>0</td>\n",
       "      <td>0</td>\n",
       "    </tr>\n",
       "    <tr>\n",
       "      <th>2022-02-22</th>\n",
       "      <td>2022-02-22</td>\n",
       "      <td>0</td>\n",
       "      <td>1</td>\n",
       "    </tr>\n",
       "    <tr>\n",
       "      <th>2022-02-23</th>\n",
       "      <td>2022-02-23</td>\n",
       "      <td>0</td>\n",
       "      <td>2</td>\n",
       "    </tr>\n",
       "  </tbody>\n",
       "</table>\n",
       "<p>591 rows × 3 columns</p>\n",
       "</div>"
      ],
      "text/plain": [
       "                 date  roadworks  weekday\n",
       "date                                     \n",
       "2020-07-13 2020-07-13          0        0\n",
       "2020-07-14 2020-07-14          0        1\n",
       "2020-07-15 2020-07-15          0        2\n",
       "2020-07-16 2020-07-16          0        3\n",
       "2020-07-17 2020-07-17          0        4\n",
       "...               ...        ...      ...\n",
       "2022-02-19 2022-02-19          0        5\n",
       "2022-02-20 2022-02-20          0        6\n",
       "2022-02-21 2022-02-21          0        0\n",
       "2022-02-22 2022-02-22          0        1\n",
       "2022-02-23 2022-02-23          0        2\n",
       "\n",
       "[591 rows x 3 columns]"
      ]
     },
     "execution_count": 303,
     "metadata": {},
     "output_type": "execute_result"
    }
   ],
   "source": [
    "# Get list of dates for index min -> max of df \n",
    "firstDate = df['loaddatetimeutc'].min()\n",
    "lastDate = df['loaddatetimeutc'].max()\n",
    "days = pd.date_range(firstDate, lastDate, freq='D')\n",
    "\n",
    "tdf = pd.DataFrame({'date': days.date, 'roadworks':0})\n",
    "tdf['date'] = tdf['date'].astype('datetime64')\n",
    "tdf = tdf.set_index('date', drop=False)\n",
    "\n",
    "tdf['weekday'] = tdf['date'].dt.weekday\n",
    "\n",
    "tdf"
   ]
  },
  {
   "cell_type": "markdown",
   "id": "23384ace",
   "metadata": {},
   "source": [
    "Making a new dataframe based on timeseries, to more easily allow for timeseries predictions to be handled."
   ]
  },
  {
   "cell_type": "code",
   "execution_count": 304,
   "id": "8e54823f",
   "metadata": {
    "scrolled": false
   },
   "outputs": [
    {
     "name": "stdout",
     "output_type": "stream",
     "text": [
      "Done\n"
     ]
    },
    {
     "data": {
      "text/html": [
       "<div>\n",
       "<style scoped>\n",
       "    .dataframe tbody tr th:only-of-type {\n",
       "        vertical-align: middle;\n",
       "    }\n",
       "\n",
       "    .dataframe tbody tr th {\n",
       "        vertical-align: top;\n",
       "    }\n",
       "\n",
       "    .dataframe thead th {\n",
       "        text-align: right;\n",
       "    }\n",
       "</style>\n",
       "<table border=\"1\" class=\"dataframe\">\n",
       "  <thead>\n",
       "    <tr style=\"text-align: right;\">\n",
       "      <th></th>\n",
       "      <th>date</th>\n",
       "      <th>roadworks</th>\n",
       "      <th>weekday</th>\n",
       "    </tr>\n",
       "    <tr>\n",
       "      <th>date</th>\n",
       "      <th></th>\n",
       "      <th></th>\n",
       "      <th></th>\n",
       "    </tr>\n",
       "  </thead>\n",
       "  <tbody>\n",
       "    <tr>\n",
       "      <th>2020-07-13</th>\n",
       "      <td>2020-07-13</td>\n",
       "      <td>6</td>\n",
       "      <td>0</td>\n",
       "    </tr>\n",
       "    <tr>\n",
       "      <th>2020-07-14</th>\n",
       "      <td>2020-07-14</td>\n",
       "      <td>19</td>\n",
       "      <td>1</td>\n",
       "    </tr>\n",
       "    <tr>\n",
       "      <th>2020-07-15</th>\n",
       "      <td>2020-07-15</td>\n",
       "      <td>17</td>\n",
       "      <td>2</td>\n",
       "    </tr>\n",
       "    <tr>\n",
       "      <th>2020-07-16</th>\n",
       "      <td>2020-07-16</td>\n",
       "      <td>12</td>\n",
       "      <td>3</td>\n",
       "    </tr>\n",
       "    <tr>\n",
       "      <th>2020-07-17</th>\n",
       "      <td>2020-07-17</td>\n",
       "      <td>29</td>\n",
       "      <td>4</td>\n",
       "    </tr>\n",
       "    <tr>\n",
       "      <th>...</th>\n",
       "      <td>...</td>\n",
       "      <td>...</td>\n",
       "      <td>...</td>\n",
       "    </tr>\n",
       "    <tr>\n",
       "      <th>2022-02-19</th>\n",
       "      <td>2022-02-19</td>\n",
       "      <td>13</td>\n",
       "      <td>5</td>\n",
       "    </tr>\n",
       "    <tr>\n",
       "      <th>2022-02-20</th>\n",
       "      <td>2022-02-20</td>\n",
       "      <td>2</td>\n",
       "      <td>6</td>\n",
       "    </tr>\n",
       "    <tr>\n",
       "      <th>2022-02-21</th>\n",
       "      <td>2022-02-21</td>\n",
       "      <td>6</td>\n",
       "      <td>0</td>\n",
       "    </tr>\n",
       "    <tr>\n",
       "      <th>2022-02-22</th>\n",
       "      <td>2022-02-22</td>\n",
       "      <td>11</td>\n",
       "      <td>1</td>\n",
       "    </tr>\n",
       "    <tr>\n",
       "      <th>2022-02-23</th>\n",
       "      <td>2022-02-23</td>\n",
       "      <td>35</td>\n",
       "      <td>2</td>\n",
       "    </tr>\n",
       "  </tbody>\n",
       "</table>\n",
       "<p>591 rows × 3 columns</p>\n",
       "</div>"
      ],
      "text/plain": [
       "                 date  roadworks  weekday\n",
       "date                                     \n",
       "2020-07-13 2020-07-13          6        0\n",
       "2020-07-14 2020-07-14         19        1\n",
       "2020-07-15 2020-07-15         17        2\n",
       "2020-07-16 2020-07-16         12        3\n",
       "2020-07-17 2020-07-17         29        4\n",
       "...               ...        ...      ...\n",
       "2022-02-19 2022-02-19         13        5\n",
       "2022-02-20 2022-02-20          2        6\n",
       "2022-02-21 2022-02-21          6        0\n",
       "2022-02-22 2022-02-22         11        1\n",
       "2022-02-23 2022-02-23         35        2\n",
       "\n",
       "[591 rows x 3 columns]"
      ]
     },
     "execution_count": 304,
     "metadata": {},
     "output_type": "execute_result"
    }
   ],
   "source": [
    "def GenerateDF(row):\n",
    "    tdf.loc[f\"{row.loaddatetimeutc.date()}\",'roadworks'] = tdf.loc[f\"{row.loaddatetimeutc.date()}\",'roadworks'] + 1\n",
    "#           ^Convert Timestamp to string because it doesn't like comparing two different date types\n",
    "    \n",
    "df.apply(axis=1, func=GenerateDF)\n",
    "print('Done')\n",
    "tdf"
   ]
  },
  {
   "cell_type": "markdown",
   "id": "533c19e2",
   "metadata": {},
   "source": [
    "Filling new dataframe based on previous roadworks data."
   ]
  },
  {
   "cell_type": "code",
   "execution_count": 339,
   "id": "bbd2d929",
   "metadata": {},
   "outputs": [],
   "source": [
    "df.to_csv('timeseriesroadworks.csv')"
   ]
  },
  {
   "cell_type": "markdown",
   "id": "dc6375bb",
   "metadata": {},
   "source": [
    "After restructuring the data into the new csv, it is also significantly easier to visualize data. We have done this below to give us a better idea of our data density"
   ]
  },
  {
   "cell_type": "code",
   "execution_count": 305,
   "id": "f834232e",
   "metadata": {},
   "outputs": [
    {
     "data": {
      "image/png": "[encoded data removed]",
      "text/plain": [
       "<Figure size 1080x720 with 3 Axes>"
      ]
     },
     "metadata": {
      "needs_background": "light"
     },
     "output_type": "display_data"
    }
   ],
   "source": [
    "fig, ax = plt.subplots(1,3,figsize=(15,10))\n",
    "lp = sns.lineplot(x='date', y='roadworks', data=tdf[tdf.index.year == 2020], ax=ax[0])\n",
    "lp = sns.lineplot(x='date', y='roadworks', data=tdf[tdf.index.year == 2021], ax=ax[1])\n",
    "lp = sns.lineplot(x='date', y='roadworks', data=tdf[tdf.index.year == 2022], ax=ax[2])\n",
    "\n",
    "for plot in ax:\n",
    "    plot.tick_params(labelrotation=45)"
   ]
  },
  {
   "cell_type": "markdown",
   "id": "49fc1cd6",
   "metadata": {},
   "source": [
    "As seen only 2021 is a full year of, with 2020 giving us a later period of the year and 2022 only the start. It is also visible that during 2021 there were some periods with either no roadworks, or no new roadworks reported in our dataset."
   ]
  },
  {
   "cell_type": "markdown",
   "id": "055aa0ec",
   "metadata": {},
   "source": [
    "# Pre Processing"
   ]
  },
  {
   "cell_type": "markdown",
   "id": "e69b8937",
   "metadata": {},
   "source": [
    "## Feature Selection\n"
   ]
  },
  {
   "cell_type": "markdown",
   "id": "7236ff56",
   "metadata": {},
   "source": [
    "## Model Selection\n"
   ]
  },
  {
   "cell_type": "markdown",
   "id": "648c49ab",
   "metadata": {},
   "source": [
    "## Pre Modelling\n",
    "Below we have done some visualizing of the data as to give us an idea of how the model might perform during the modelling phase."
   ]
  },
  {
   "cell_type": "code",
   "execution_count": 349,
   "id": "4204186c",
   "metadata": {
    "scrolled": false
   },
   "outputs": [
    {
     "data": {
      "image/png": "[encoded data removed]",
      "text/plain": [
       "<Figure size 1080x360 with 1 Axes>"
      ]
     },
     "metadata": {
      "needs_background": "light"
     },
     "output_type": "display_data"
    }
   ],
   "source": [
    "wddf = pd.DataFrame({'weekday': np.arange(7), 'roadworks':0})\n",
    "def GenerateWeekDayDF(row):\n",
    "    wddf.loc[row.weekday,'roadworks'] = wddf.loc[row.weekday,'roadworks'] + row.roadworks\n",
    "    \n",
    "tdf.apply(axis=1, func=GenerateWeekDayDF)\n",
    "\n",
    "plt.figure(figsize = (15,5))\n",
    "lp = sns.lineplot(x=wddf['weekday'], y=wddf['roadworks'])\n",
    "lp.set(xticks=[0,1,2,3,4,5,6]);\n",
    "lp.set_xticklabels(['Mon','Tue','Wed','Thu','Fri','Sat','Sun']);"
   ]
  },
  {
   "cell_type": "code",
   "execution_count": 338,
   "id": "31c4978f",
   "metadata": {
    "scrolled": false
   },
   "outputs": [
    {
     "data": {
      "image/png": "[encoded data removed]",
      "text/plain": [
       "<Figure size 1080x360 with 1 Axes>"
      ]
     },
     "metadata": {
      "needs_background": "light"
     },
     "output_type": "display_data"
    }
   ],
   "source": [
    "mdf = pd.DataFrame({'month': np.arange(1, 13), 'roadworks':0})\n",
    "def GenerateMonthDF(row):\n",
    "    mdf.loc[row.date.month - 1,'roadworks'] = mdf.loc[row.date.month - 1,'roadworks'] + row.roadworks\n",
    "    \n",
    "tdf.apply(axis=1, func=GenerateMonthDF)\n",
    "\n",
    "plt.figure(figsize = (15,5))\n",
    "lp = sns.lineplot(x=mdf['month'], y=mdf['roadworks'])\n",
    "lp.set(xticks=[1,2,3,4,5,6,7,8,9,10,11,12])\n",
    "lp.set_xticklabels(['Jan','Feb','Mar','Apr','May','Jun','Jul','Aug','Sep','Oct','Nov','Dec']);"
   ]
  },
  {
   "cell_type": "markdown",
   "id": "0a0229ac",
   "metadata": {},
   "source": [
    "When looking at the data by weekday or month, there is a clearly visible fluctaion line, with Monday, Saturday and Sunday being low roadwork days, and late summer/fall is a high roadworks period based yearly.  \n",
    "This shows that the roadworks do seem to be in a pattern allowing for a timeseries predictor to have a better time prediction roadworks in the future."
   ]
  }
 ],
 "metadata": {
  "kernelspec": {
   "display_name": "Python 3 (ipykernel)",
   "language": "python",
   "name": "python3"
  },
  "language_info": {
   "codemirror_mode": {
    "name": "ipython",
    "version": 3
   },
   "file_extension": ".py",
   "mimetype": "text/x-python",
   "name": "python",
   "nbconvert_exporter": "python",
   "pygments_lexer": "ipython3",
   "version": "3.9.7"
  }
 },
 "nbformat": 4,
 "nbformat_minor": 5
}
