{
 "cells": [
  {
   "cell_type": "code",
   "execution_count": 3,
   "id": "c8d7c9ee",
   "metadata": {},
   "outputs": [],
   "source": [
    "from sklearn.svm import SVR\n",
    "from sklearn.preprocessing import StandardScaler\n",
    "\n",
    "import numpy as np\n",
    "import pandas as pd"
   ]
  },
  {
   "cell_type": "code",
   "execution_count": 5,
   "id": "dc406e9d",
   "metadata": {},
   "outputs": [],
   "source": [
    "# Import data\n",
    "df = pd.read_csv('Datasets/movies2_merged.csv', sep='|')\n",
    "df = df[['Budget', 'Collection', 'CastSize', 'CrewSize', 'DirectorPopularity', 'AvgCastPopularity', 'Revenue']].dropna()\n",
    "\n",
    "# Log numerical values\n",
    "numericCols = df.select_dtypes(include=np.number).columns\n",
    "logdf = df.copy()\n",
    "logdf[numericCols] = np.log(logdf[numericCols]).replace([np.inf, -np.inf], np.nan).dropna()\n",
    "\n",
    "# Standardize data\n",
    "scX = StandardScaler()\n",
    "scY = StandardScaler()\n",
    "\n",
    "X = scX.fit_transform(logdf[['Budget', 'Collection', 'CastSize', 'CrewSize', 'DirectorPopularity', 'AvgCastPopularity']])\n",
    "y = scY.fit_transform(logdf[['Revenue']])"
   ]
  },
  {
   "cell_type": "code",
   "execution_count": 9,
   "id": "fb8868df",
   "metadata": {},
   "outputs": [
    {
     "data": {
      "text/plain": [
       "SVR()"
      ]
     },
     "execution_count": 9,
     "metadata": {},
     "output_type": "execute_result"
    }
   ],
   "source": [
    "svr = SVR(kernel='rbf')\n",
    "svr.fit(X, y.ravel())"
   ]
  }
 ],
 "metadata": {
  "kernelspec": {
   "display_name": "Python 3 (ipykernel)",
   "language": "python",
   "name": "python3"
  },
  "language_info": {
   "codemirror_mode": {
    "name": "ipython",
    "version": 3
   },
   "file_extension": ".py",
   "mimetype": "text/x-python",
   "name": "python",
   "nbconvert_exporter": "python",
   "pygments_lexer": "ipython3",
   "version": "3.9.7"
  }
 },
 "nbformat": 4,
 "nbformat_minor": 5
}
