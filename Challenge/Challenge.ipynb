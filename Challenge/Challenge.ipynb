{
 "cells": [
  {
   "cell_type": "markdown",
   "id": "d8e46c28",
   "metadata": {},
   "source": [
    "# Predicting Movie Earnings\n",
    "    Thomas van der Molen\n",
    "    S4-AI41"
   ]
  },
  {
   "cell_type": "markdown",
   "id": "a6ea5c4f",
   "metadata": {},
   "source": [
    "## Table of Contents\n",
    "- [Version History](#Version-History)\n",
    "- [Introduction](#Introduction)  \n",
    "- [Proposal](#Proposal)\n",
    "    * [Domain Understanding](#Domain-Understanding)\n",
    "        * [Interview](#Interview)\n",
    "        * [Question Statement](#Question-Statement)\n",
    "        * [Real World Example](#Real-World-Example)\n",
    "    * [Data Sourcing](#Data-Sourcing)\n",
    "    * [Analytic Approach](#Analytic-Approach)\n",
    "- [Iteration 1](#Iteration-1)\n",
    "    - [Provisioning](#Provisioning)\n",
    "        * [Data Requirements](#Data-Requirements)\n",
    "        * [Data Collection](#Data-Collection)\n",
    "        * [Data Understanding](#Data-Understanding)\n",
    "        * [Data Preparation](#Data-Preparation)\n",
    "    - [Predictions](#Predictions)\n",
    "        * [Preprocessing](#Preprocessing)\n",
    "        * [Modelling](#Modelling)\n",
    "        * [Evaluation](#Evaluation)\n",
    "- [Delivery](#Delivery)\n",
    "    * [Collecting](#Collecting)\n",
    "    * [Documenting](#Documenting)\n",
    "    * [Reporting](#Reporting)"
   ]
  },
  {
   "cell_type": "code",
   "execution_count": 2,
   "id": "1050c420",
   "metadata": {},
   "outputs": [
    {
     "data": {
      "text/html": [
       "<style>\n",
       "table {float:left}\n",
       "img {float:left}\n",
       "</style>\n"
      ],
      "text/plain": [
       "<IPython.core.display.HTML object>"
      ]
     },
     "metadata": {},
     "output_type": "display_data"
    }
   ],
   "source": [
    "%%html\n",
    "<style>\n",
    "table {float:left}\n",
    "img {float:left}\n",
    "</style>"
   ]
  },
  {
   "cell_type": "markdown",
   "id": "f9d66039",
   "metadata": {},
   "source": [
    "## Version History\n",
    "| Version | Date | Change |\n",
    "| :---: | :--- | :--- |\n",
    "| 1.0 | 24-03-2022 | Created document and worked on the proposal |"
   ]
  },
  {
   "cell_type": "markdown",
   "id": "732fa972",
   "metadata": {},
   "source": [
    "## Introduction\n",
    "  \n",
    "This is iteration 1 of my challenge, if you wish to see the exploratory research done during Iteration 0, you can find that in the iteration 0 folder [here](Iteration0/ChallengeProposal.html) or [online](https://github.com/Thomas-Molen/FHICT-S4-AI/blob/main/Challenge/ChallengeProposal.html)\n",
    "  \n",
    "I have decided to do a project in the domain of movies, because I enjoy watching movies and seeing what makes them succeed or fail, I have also chosen this domain because there is quite a bit of data publicly available about movies that could be used."
   ]
  },
  {
   "cell_type": "markdown",
   "id": "844c45c6",
   "metadata": {},
   "source": [
    "## Proposal\n",
    "\n",
    "### Domain Understanding\n",
    "As said in the [Introduction](#Introduction) I have chosen to do a project in the domain of movies, for this there are a couple sub domains that the film industry could be split up into. For me the most important one is the area connected to the production process, seen as the companies and individuals operating in this area put a lot of investment (both time and money) into the movie itself.\n",
    "\n",
    "#### Interview\n",
    "First step of getting a better understanding of my chosen domain would be to get into contact with domain experts.  \n",
    "During Iteration 0 I looked at what companies by target audience would be for my project, in this research I found 3 different groups:\n",
    "- Production and distribution (e.g. [Paramount Puctures Studios](http://www.paramountstudios.com/), [Lionsgate](https://www.lionsgate.com/))\n",
    "- Financing companies (e.g. [Peacock Film Finance](https://peacockfilmfinance.com/))\n",
    "- Film Bond companies (film completion bonds are a form of insurance for investors, e.g. [Surety Bonds](https://www.suretybondsdirect.com/))\n",
    "\n",
    "For my interview I originally approach smaller production companies such as [24fps production](https://www.24fpsproductions.com/) for a possible interview with a domain expert working at the company. However, I never got a response from them.  \n",
    "I discussed my problems with getting in contact with a domain expert with my semester coach and he suggested sending a questionnaire to individuals instead, seen as these professionals (understandably) might not have the time for an interview.  \n",
    "I took up the given advice and messaged some domain experts currently working as film producers on linkedIn.\n",
    "\n",
    "\\[No Responses yet\\]\n",
    "\n",
    "#### Real World Example\n",
    "\\[Some examples such as netflix and sonic\\]\n",
    "\n",
    "#### Question Statement\n",
    "For this project I Will be trying to:\n",
    "*Predict the success of movies*\n",
    "\n",
    "This main question has been altered during the making of iteration 0 (discussed in the challenge proposal of iteration 0). I ended up on having the main focus be revenue, because this is a value that a lot of companies focus on when making movies, this value is also more flexible and might have more opportunities than a value such as budget (budget is greatly connected to what kind of movie (for example sci-fi needs a higher budget cost for post production work) and what actors are in the movie (popular actors will take up a lot more of a budget))\n",
    "\n",
    "There are also a couple subquestions that I would like to answer along the way:\n",
    "- *Do genres impact the revenue in a significant way*\n",
    "- *Are actors a big factor in a movie's success*\n",
    "- *Is there any correlation between a movie's title and it's success*\n",
    "- *Does the time of year impact movie sales*\n",
    "\n",
    "### Data Sourcing\n",
    "For data sourcing there are many good movie database websites to choose from, for critic reviews there are websites such as [Metacritic](https://www.metacritic.com/) and [Rotten Tomatoes](https://www.rottentomatoes.com/) and for a more curated database of movies there are websites such as [IMdb](https://www.imdb.com/) and [TMDb](https://www.themoviedb.org/).\n",
    "\n",
    "Extra data can also be gotten from more news related websites such as [the-numbers](https://www.the-numbers.com/) who might have more specific data such as gross revenue or budget in the case of the-numbers.\n",
    "\n",
    "### Analytic Approach\n",
    "During Iteration 0, a lot of time has been spent figuring out a proper target value.\n",
    "Out of this research came that for predicting success, revenue would be the best fit. Revenue can be combined with values such as budget to create a profit coefficient which could be used by companies as a KPI.  \n",
    "After considering this the main goal of this challenge will be to accurately predict a movie's revenue based on public data, this will allow film production and investment companies/individuals to reduce the risks that come along with making a movie.  \n",
    "\n",
    "Seen as I will be attempting to predict a value (revenue) regression will be the obvious alogirthm type to use, so I will be focussing my data with the goal of using regression to predict revenue."
   ]
  },
  {
   "cell_type": "markdown",
   "id": "66f43fe2",
   "metadata": {},
   "source": [
    "# Iteration 1"
   ]
  },
  {
   "cell_type": "markdown",
   "id": "8973bb00",
   "metadata": {},
   "source": [
    "## Provisioning\n",
    "\n",
    "### Data Requirements\n",
    "As stated in the [Data Sourcing](#Data-Sourcing) there are several data sources in closely related domains that are able to supply movie data, the ones that I will be initialy focussing on will be:\n",
    "- TMDb(https://www.themoviedb.org/)\n",
    "- the-numbers(https://www.the-numbers.com/)\n",
    "\n",
    "I will be using TMDb as my base data, from here I will be getting any general movie data (such as title, releasedate, etc.).\n",
    "the-numbers I will be using to enrich my data with budgets and revenue. I will not be using any critic data as this data generally is not a good indication for predicting a movie's success before it has been released, seen as there will be no reviews yet (however this could be used in later iterations because of factors such as in the sonic movie example describe in [Real World Example](#Real-World-Example)).\n",
    "\n",
    "As said previously the domains that TMDb and the-numbers fall into are different but still related, with the same general reason of sharing their data publicly\n",
    "\n",
    "### Data Collection\n",
    "\n",
    "### Data Understanding\n",
    "\n",
    "### Data Preperation"
   ]
  },
  {
   "cell_type": "markdown",
   "id": "21e200ed",
   "metadata": {},
   "source": [
    "## Predictions\n",
    "\n",
    "### Preprocessing\n",
    "\n",
    "### Modelling\n",
    "\n",
    "### Evaluation"
   ]
  },
  {
   "cell_type": "markdown",
   "id": "651b20ee",
   "metadata": {},
   "source": [
    "## Delivery\n",
    "\n",
    "### Collecting\n",
    "\n",
    "### Documenting\n",
    "\n",
    "### Reporting"
   ]
  }
 ],
 "metadata": {
  "kernelspec": {
   "display_name": "Python 3 (ipykernel)",
   "language": "python",
   "name": "python3"
  },
  "language_info": {
   "codemirror_mode": {
    "name": "ipython",
    "version": 3
   },
   "file_extension": ".py",
   "mimetype": "text/x-python",
   "name": "python",
   "nbconvert_exporter": "python",
   "pygments_lexer": "ipython3",
   "version": "3.9.7"
  }
 },
 "nbformat": 4,
 "nbformat_minor": 5
}
