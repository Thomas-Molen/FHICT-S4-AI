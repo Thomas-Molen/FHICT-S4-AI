{
 "cells": [
  {
   "cell_type": "markdown",
   "id": "c749cfdf",
   "metadata": {},
   "source": [
    "# Predicting Movie Earnings\n",
    "    Thomas van der Molen\n",
    "    S4-AI41"
   ]
  },
  {
   "cell_type": "markdown",
   "id": "8ce1eb3f",
   "metadata": {},
   "source": [
    "## Table of Contents\n",
    "- [Version History](#Version-History)\n",
    "- [Domain Understanding](#Domain-Understanding)  \n",
    "  * [Introduction](#Introduction)\n",
    "  * [Problem Statement](#Problem-Statement)\n",
    "  * [Target Audience](#Target-Audience)\n",
    "  * [Expert Domain Clarification](#Expert-Domain-Clarification)\n",
    "- [Data Sourcing](#Data-Sourcing)\n",
    "  * [Exploratory Data Analysis](#Exploratory-Data-Analysis)\n",
    "- [Analytic Approach](#Analytic-Approach)\n",
    "- [Evaluation](#Evaluation)"
   ]
  },
  {
   "cell_type": "code",
   "execution_count": 6,
   "id": "b11d14ef",
   "metadata": {},
   "outputs": [
    {
     "data": {
      "text/html": [
       "<style>\n",
       "table {float:left}\n",
       "</style>\n"
      ],
      "text/plain": [
       "<IPython.core.display.HTML object>"
      ]
     },
     "metadata": {},
     "output_type": "display_data"
    }
   ],
   "source": [
    "%%html\n",
    "<style>\n",
    "table {float:left}\n",
    "</style>"
   ]
  },
  {
   "cell_type": "markdown",
   "id": "175307ee",
   "metadata": {},
   "source": [
    "## Version History\n",
    "| Version | Date | Change |\n",
    "| :---: | :--- | :--- |\n",
    "| 1.0 | 17-02-2022 | Created document |\n",
    "| 1.1 | 18-02-2022 | Started work on the introduction |\n",
    "| 1.2 | 25-02-2022 | Added more structure based on SI lecture |\n",
    "| 1.3 | 07-03-2022 | Converted document to markdown |"
   ]
  },
  {
   "cell_type": "markdown",
   "id": "ef0bf20c",
   "metadata": {},
   "source": [
    "# Domain Understanding"
   ]
  },
  {
   "cell_type": "markdown",
   "id": "3081e4dc",
   "metadata": {},
   "source": [
    "### Introduction\n",
    "As someone who enjoys watching movies, there often seems to be a polarizing difference between what movies perform well and which ones do not. With movies being [a billion-dollar industry](https://www.boxofficepro.com/mpa-2019-global-box-office-and-home-entertainment-surpasses-100-billion/), there seems to be a lot of risk and reward involved when investing and making movies. \n",
    "  \n",
    "I am interested in finding possible patterns to predict how much a movie will earn in the box office compared to the amount of money spent on budget. This could give movie companies a clearer vision of how much they should spend for the best result, reducing the amount of risk taken when investing in movies with budgets of [100 million+ dollars](https://www.the-numbers.com/movie/budgets/all)."
   ]
  },
  {
   "cell_type": "markdown",
   "id": "102a8885",
   "metadata": {},
   "source": [
    "### Problem Statement\n",
    "For this project I Will be trying to predict:  \n",
    "*How much will a movie earn compared to its budget based on publicly available data.*"
   ]
  },
  {
   "cell_type": "markdown",
   "id": "8a4b9657",
   "metadata": {},
   "source": [
    "### Target Audience\n",
    "There are a lot of different parties involved during the process of making a movie, for this reason there are many different groups that could benefit from the given predictions.  \n",
    "  \n",
    "The most obvious ones are the production and distribution companies such as:  \n",
    "[Paramount Pictures Studios](http://www.paramountstudios.com/), [Warner Bros. Pictures](https://www.warnerbros.com/company/divisions/motion-pictures), [Sony Pictures](https://www.sonypictures.com/), [Lionsgate](https://www.lionsgate.com/), etc.  \n",
    "  \n",
    "Further from the actual production and distribution process are companies such as [Peacock Film Finance](https://peacockfilmfinance.com/), who as the name suggests help finance the production of movies.  \n",
    "  \n",
    "Besides these you could also include Bond companies, these companies are a form of insurance agency such as [Surety Bonds Direct](https://www.suretybondsdirect.com/).  \n",
    "  \n",
    "I am going to focus my domain on the production companies, because these are the companies that will originally set the budget and could use this prediction to get investments and get more people interested in their movie."
   ]
  },
  {
   "cell_type": "markdown",
   "id": "f1c76380",
   "metadata": {},
   "source": [
    "### Expert Domain Clarification\n",
    "I have tried reaching out to several (smaller) movie production companies to try and get an interview with them such as [24fps productions](https://www.24fpsproductions.com/).\\\n",
    "Sadly, there has been no responses to my requests."
   ]
  },
  {
   "cell_type": "markdown",
   "id": "a603f934",
   "metadata": {},
   "source": [
    "## Data Sourcing\n",
    "One of the other reasons I chose to try and work with movies, is because movies seem to have a lot of public data attached to them for example, most movies share their box office revenue ([or are tracked by third parties](https://movies.stackexchange.com/questions/27777/why-are-box-office-numbers-made-public)) and in most cases movie budgets will also be provided. Other than this information such as the cast, genre, runtime, release date and critic scores are also widely available.  \n",
    "  \n",
    "For sourcing data there are a few well known sources to get large amounts of data from movies, such as [IMDb](https://www.imdb.com/), [TMDB](https://www.themoviedb.org/) and [Rotten Tomatoes](https://www.rottentomatoes.com/)."
   ]
  },
  {
   "cell_type": "markdown",
   "id": "75a4382e",
   "metadata": {},
   "source": [
    "### Exploratory Data Analysis"
   ]
  },
  {
   "cell_type": "code",
   "execution_count": null,
   "id": "e6d5ff54",
   "metadata": {},
   "outputs": [],
   "source": []
  },
  {
   "cell_type": "markdown",
   "id": "5d1a6490",
   "metadata": {},
   "source": [
    "## Analytic Approach"
   ]
  },
  {
   "cell_type": "code",
   "execution_count": null,
   "id": "3d1a3d93",
   "metadata": {},
   "outputs": [],
   "source": []
  },
  {
   "cell_type": "markdown",
   "id": "5aaf6173",
   "metadata": {},
   "source": [
    "## Evaluation"
   ]
  }
 ],
 "metadata": {
  "kernelspec": {
   "display_name": "Python 3 (ipykernel)",
   "language": "python",
   "name": "python3"
  },
  "language_info": {
   "codemirror_mode": {
    "name": "ipython",
    "version": 3
   },
   "file_extension": ".py",
   "mimetype": "text/x-python",
   "name": "python",
   "nbconvert_exporter": "python",
   "pygments_lexer": "ipython3",
   "version": "3.9.7"
  }
 },
 "nbformat": 4,
 "nbformat_minor": 5
}
